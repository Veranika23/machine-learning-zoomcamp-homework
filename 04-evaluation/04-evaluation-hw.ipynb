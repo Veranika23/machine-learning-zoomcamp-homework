{
 "cells": [
  {
   "cell_type": "code",
   "execution_count": 132,
   "id": "9135240d-5a69-4acc-9011-19bbafe7b805",
   "metadata": {},
   "outputs": [
    {
     "name": "stdout",
     "output_type": "stream",
     "text": [
      "Requirement already satisfied: wget in /usr/local/python/3.12.1/lib/python3.12/site-packages (3.2)\n",
      "\n",
      "\u001b[1m[\u001b[0m\u001b[34;49mnotice\u001b[0m\u001b[1;39;49m]\u001b[0m\u001b[39;49m A new release of pip is available: \u001b[0m\u001b[31;49m25.1.1\u001b[0m\u001b[39;49m -> \u001b[0m\u001b[32;49m25.2\u001b[0m\n",
      "\u001b[1m[\u001b[0m\u001b[34;49mnotice\u001b[0m\u001b[1;39;49m]\u001b[0m\u001b[39;49m To update, run: \u001b[0m\u001b[32;49mpython3 -m pip install --upgrade pip\u001b[0m\n"
     ]
    }
   ],
   "source": [
    "!pip install wget\n",
    "import pandas as pd\n",
    "import wget\n",
    "import numpy as np\n",
    "import matplotlib.pyplot as plt\n",
    "import seaborn as sns\n",
    "%matplotlib inline"
   ]
  },
  {
   "cell_type": "code",
   "execution_count": 133,
   "id": "0b2c41b4-b04a-4218-abb9-4121c3839592",
   "metadata": {},
   "outputs": [],
   "source": [
    "url =  'https://raw.githubusercontent.com/alexeygrigorev/datasets/master/course_lead_scoring.csv'"
   ]
  },
  {
   "cell_type": "code",
   "execution_count": 134,
   "id": "b1c02dbe-522c-4e76-82ff-a1f6559c5de1",
   "metadata": {},
   "outputs": [
    {
     "name": "stdout",
     "output_type": "stream",
     "text": [
      "100% [...........................................................] 80876 / 80876"
     ]
    }
   ],
   "source": [
    "downloaded_file = wget.download(url)"
   ]
  },
  {
   "cell_type": "code",
   "execution_count": 135,
   "id": "0586c6d0-bf9b-4a54-84e9-244b3e94f4d1",
   "metadata": {},
   "outputs": [],
   "source": [
    "df = pd.read_csv(downloaded_file)"
   ]
  },
  {
   "cell_type": "code",
   "execution_count": 136,
   "id": "c64be300-51c3-4cbb-9d1a-6800953232b4",
   "metadata": {},
   "outputs": [
    {
     "data": {
      "text/html": [
       "<div>\n",
       "<style scoped>\n",
       "    .dataframe tbody tr th:only-of-type {\n",
       "        vertical-align: middle;\n",
       "    }\n",
       "\n",
       "    .dataframe tbody tr th {\n",
       "        vertical-align: top;\n",
       "    }\n",
       "\n",
       "    .dataframe thead th {\n",
       "        text-align: right;\n",
       "    }\n",
       "</style>\n",
       "<table border=\"1\" class=\"dataframe\">\n",
       "  <thead>\n",
       "    <tr style=\"text-align: right;\">\n",
       "      <th></th>\n",
       "      <th>lead_source</th>\n",
       "      <th>industry</th>\n",
       "      <th>number_of_courses_viewed</th>\n",
       "      <th>annual_income</th>\n",
       "      <th>employment_status</th>\n",
       "      <th>location</th>\n",
       "      <th>interaction_count</th>\n",
       "      <th>lead_score</th>\n",
       "      <th>converted</th>\n",
       "    </tr>\n",
       "  </thead>\n",
       "  <tbody>\n",
       "    <tr>\n",
       "      <th>0</th>\n",
       "      <td>paid_ads</td>\n",
       "      <td>NaN</td>\n",
       "      <td>1</td>\n",
       "      <td>79450.0</td>\n",
       "      <td>unemployed</td>\n",
       "      <td>south_america</td>\n",
       "      <td>4</td>\n",
       "      <td>0.94</td>\n",
       "      <td>1</td>\n",
       "    </tr>\n",
       "    <tr>\n",
       "      <th>1</th>\n",
       "      <td>social_media</td>\n",
       "      <td>retail</td>\n",
       "      <td>1</td>\n",
       "      <td>46992.0</td>\n",
       "      <td>employed</td>\n",
       "      <td>south_america</td>\n",
       "      <td>1</td>\n",
       "      <td>0.80</td>\n",
       "      <td>0</td>\n",
       "    </tr>\n",
       "    <tr>\n",
       "      <th>2</th>\n",
       "      <td>events</td>\n",
       "      <td>healthcare</td>\n",
       "      <td>5</td>\n",
       "      <td>78796.0</td>\n",
       "      <td>unemployed</td>\n",
       "      <td>australia</td>\n",
       "      <td>3</td>\n",
       "      <td>0.69</td>\n",
       "      <td>1</td>\n",
       "    </tr>\n",
       "    <tr>\n",
       "      <th>3</th>\n",
       "      <td>paid_ads</td>\n",
       "      <td>retail</td>\n",
       "      <td>2</td>\n",
       "      <td>83843.0</td>\n",
       "      <td>NaN</td>\n",
       "      <td>australia</td>\n",
       "      <td>1</td>\n",
       "      <td>0.87</td>\n",
       "      <td>0</td>\n",
       "    </tr>\n",
       "    <tr>\n",
       "      <th>4</th>\n",
       "      <td>referral</td>\n",
       "      <td>education</td>\n",
       "      <td>3</td>\n",
       "      <td>85012.0</td>\n",
       "      <td>self_employed</td>\n",
       "      <td>europe</td>\n",
       "      <td>3</td>\n",
       "      <td>0.62</td>\n",
       "      <td>1</td>\n",
       "    </tr>\n",
       "  </tbody>\n",
       "</table>\n",
       "</div>"
      ],
      "text/plain": [
       "    lead_source    industry  number_of_courses_viewed  annual_income  \\\n",
       "0      paid_ads         NaN                         1        79450.0   \n",
       "1  social_media      retail                         1        46992.0   \n",
       "2        events  healthcare                         5        78796.0   \n",
       "3      paid_ads      retail                         2        83843.0   \n",
       "4      referral   education                         3        85012.0   \n",
       "\n",
       "  employment_status       location  interaction_count  lead_score  converted  \n",
       "0        unemployed  south_america                  4        0.94          1  \n",
       "1          employed  south_america                  1        0.80          0  \n",
       "2        unemployed      australia                  3        0.69          1  \n",
       "3               NaN      australia                  1        0.87          0  \n",
       "4     self_employed         europe                  3        0.62          1  "
      ]
     },
     "execution_count": 136,
     "metadata": {},
     "output_type": "execute_result"
    }
   ],
   "source": [
    "df.head()"
   ]
  },
  {
   "cell_type": "code",
   "execution_count": 137,
   "id": "12ce426d-4509-44a2-9c07-31c1bad59419",
   "metadata": {},
   "outputs": [
    {
     "data": {
      "text/plain": [
       "lead_source                 128\n",
       "industry                    134\n",
       "number_of_courses_viewed      0\n",
       "annual_income               181\n",
       "employment_status           100\n",
       "location                     63\n",
       "interaction_count             0\n",
       "lead_score                    0\n",
       "converted                     0\n",
       "dtype: int64"
      ]
     },
     "execution_count": 137,
     "metadata": {},
     "output_type": "execute_result"
    }
   ],
   "source": [
    "df.isnull().sum()"
   ]
  },
  {
   "cell_type": "code",
   "execution_count": 138,
   "id": "b029fe5e-5664-4794-b1e1-db4409f8c45e",
   "metadata": {},
   "outputs": [
    {
     "data": {
      "text/plain": [
       "lead_source                  object\n",
       "industry                     object\n",
       "number_of_courses_viewed      int64\n",
       "annual_income               float64\n",
       "employment_status            object\n",
       "location                     object\n",
       "interaction_count             int64\n",
       "lead_score                  float64\n",
       "converted                     int64\n",
       "dtype: object"
      ]
     },
     "execution_count": 138,
     "metadata": {},
     "output_type": "execute_result"
    }
   ],
   "source": [
    "df.dtypes"
   ]
  },
  {
   "cell_type": "code",
   "execution_count": 139,
   "id": "a9fd1804-8346-47b9-a170-34be01f5e7f5",
   "metadata": {},
   "outputs": [],
   "source": [
    "categorical_columns = list(df.dtypes[df.dtypes == 'object'].index)"
   ]
  },
  {
   "cell_type": "code",
   "execution_count": 140,
   "id": "ba3c37ba-058f-4926-80aa-34bd162bc8d5",
   "metadata": {},
   "outputs": [
    {
     "data": {
      "text/plain": [
       "['lead_source', 'industry', 'employment_status', 'location']"
      ]
     },
     "execution_count": 140,
     "metadata": {},
     "output_type": "execute_result"
    }
   ],
   "source": [
    "categorical_columns"
   ]
  },
  {
   "cell_type": "code",
   "execution_count": 141,
   "id": "5f1510cc-fe48-439e-8f26-f7ee0ac22082",
   "metadata": {},
   "outputs": [],
   "source": [
    "for c in categorical_columns:\n",
    "    df[c] = df[c].fillna('NA')"
   ]
  },
  {
   "cell_type": "code",
   "execution_count": 142,
   "id": "c90c9d9e-2957-4caa-b191-b9aabeb446da",
   "metadata": {},
   "outputs": [],
   "source": [
    "numerical_columns = list(df.dtypes[(df.dtypes == 'int64') | (df.dtypes == 'float64')].index)"
   ]
  },
  {
   "cell_type": "code",
   "execution_count": 143,
   "id": "2fba5de5-bcc4-4c85-98a2-5917130b6c8a",
   "metadata": {},
   "outputs": [
    {
     "data": {
      "text/plain": [
       "['number_of_courses_viewed',\n",
       " 'annual_income',\n",
       " 'interaction_count',\n",
       " 'lead_score',\n",
       " 'converted']"
      ]
     },
     "execution_count": 143,
     "metadata": {},
     "output_type": "execute_result"
    }
   ],
   "source": [
    "numerical_columns"
   ]
  },
  {
   "cell_type": "code",
   "execution_count": 144,
   "id": "121c655d-8f42-404c-89b4-f7d051c00ee9",
   "metadata": {},
   "outputs": [],
   "source": [
    "for n in numerical_columns:\n",
    "    df[n] = df[n].fillna(0.0)"
   ]
  },
  {
   "cell_type": "code",
   "execution_count": 145,
   "id": "4f81b63f-e441-49e6-aa0c-af1d9a7d652c",
   "metadata": {},
   "outputs": [
    {
     "data": {
      "text/plain": [
       "lead_source                 0\n",
       "industry                    0\n",
       "number_of_courses_viewed    0\n",
       "annual_income               0\n",
       "employment_status           0\n",
       "location                    0\n",
       "interaction_count           0\n",
       "lead_score                  0\n",
       "converted                   0\n",
       "dtype: int64"
      ]
     },
     "execution_count": 145,
     "metadata": {},
     "output_type": "execute_result"
    }
   ],
   "source": [
    "df.isnull().sum()"
   ]
  },
  {
   "cell_type": "code",
   "execution_count": 146,
   "id": "0a7d0bb3-b419-459b-bfeb-a6be44a76fa5",
   "metadata": {},
   "outputs": [],
   "source": [
    "from sklearn.model_selection import train_test_split"
   ]
  },
  {
   "cell_type": "code",
   "execution_count": 147,
   "id": "e235f3f4-b5d2-4327-b778-e7364ffd7e19",
   "metadata": {},
   "outputs": [],
   "source": [
    "df_full_train, df_test = train_test_split(df, test_size = 0.2, random_state = 1)"
   ]
  },
  {
   "cell_type": "code",
   "execution_count": 148,
   "id": "ab929d0f-0f6b-411e-ae1a-19e6f0922699",
   "metadata": {},
   "outputs": [],
   "source": [
    "df_train, df_val = train_test_split(df_full_train, test_size = 0.25, random_state = 1)"
   ]
  },
  {
   "cell_type": "code",
   "execution_count": 149,
   "id": "f8d5c8a8-2e8f-4a7a-b124-b2f9c8cc9d7b",
   "metadata": {},
   "outputs": [],
   "source": [
    "df_train = df_train.reset_index(drop = True)"
   ]
  },
  {
   "cell_type": "code",
   "execution_count": 150,
   "id": "41753f70-91ce-4e42-974e-425a920bfee8",
   "metadata": {},
   "outputs": [],
   "source": [
    "df_val = df_val.reset_index(drop = True)"
   ]
  },
  {
   "cell_type": "code",
   "execution_count": 151,
   "id": "fd114eda-79e1-48a9-9f3d-1fe64aa97cdd",
   "metadata": {},
   "outputs": [],
   "source": [
    "df_test = df_test.reset_index(drop = True)"
   ]
  },
  {
   "cell_type": "code",
   "execution_count": 152,
   "id": "edcf5d8f-6749-40c9-a990-f652ad482333",
   "metadata": {},
   "outputs": [],
   "source": [
    "y_train = df_train.converted.values\n",
    "y_val = df_val.converted.values\n",
    "y_test = df_test.converted.values"
   ]
  },
  {
   "cell_type": "code",
   "execution_count": 153,
   "id": "02348f01-5af1-470c-acf4-643b570a794d",
   "metadata": {},
   "outputs": [],
   "source": [
    "del df_train['converted']\n",
    "del df_val['converted']\n",
    "del df_test['converted']"
   ]
  },
  {
   "cell_type": "markdown",
   "id": "0060b15b-7cb5-46a6-8824-fe2f2614a88f",
   "metadata": {},
   "source": [
    "Question 1: ROC AUC feature importance"
   ]
  },
  {
   "cell_type": "code",
   "execution_count": 154,
   "id": "e20080bf-51a9-4073-889b-c284ba6582a9",
   "metadata": {},
   "outputs": [],
   "source": [
    "numerical_columns = ['number_of_courses_viewed',\n",
    " 'annual_income',\n",
    " 'interaction_count',\n",
    " 'lead_score']"
   ]
  },
  {
   "cell_type": "code",
   "execution_count": 155,
   "id": "5d1dc939-5a22-4303-9efd-204bdffd1c8f",
   "metadata": {},
   "outputs": [
    {
     "data": {
      "text/plain": [
       "['number_of_courses_viewed',\n",
       " 'annual_income',\n",
       " 'interaction_count',\n",
       " 'lead_score']"
      ]
     },
     "execution_count": 155,
     "metadata": {},
     "output_type": "execute_result"
    }
   ],
   "source": [
    "numerical_columns"
   ]
  },
  {
   "cell_type": "code",
   "execution_count": 156,
   "id": "3e718eee-511b-4857-be40-d89d98e12779",
   "metadata": {},
   "outputs": [],
   "source": [
    "from sklearn.metrics import roc_auc_score"
   ]
  },
  {
   "cell_type": "code",
   "execution_count": 157,
   "id": "199c3596-1842-4500-8f06-d3753ecb6709",
   "metadata": {},
   "outputs": [
    {
     "name": "stdout",
     "output_type": "stream",
     "text": [
      "number_of_courses_viewed, 0.764\n",
      "annual_income, 0.552\n",
      "interaction_count, 0.738\n",
      "lead_score, 0.614\n"
     ]
    }
   ],
   "source": [
    "for n in numerical_columns:\n",
    "    score = roc_auc_score(y_train, df_train[n])\n",
    "    if score < 0.5:\n",
    "        score = roc_auc_score(y_train, -df_train[n])\n",
    "    print('%9s, %.3f' % (n, score))"
   ]
  },
  {
   "cell_type": "markdown",
   "id": "d63a6b6b-7ba4-4428-b15a-caee507517e9",
   "metadata": {},
   "source": [
    "number_of_courses_viewed has the highest AUC"
   ]
  },
  {
   "cell_type": "markdown",
   "id": "ea595c00-0218-4b79-8d8b-e55f225164d5",
   "metadata": {},
   "source": [
    "Question 2: Training the model"
   ]
  },
  {
   "cell_type": "code",
   "execution_count": 158,
   "id": "82f438a8-bdf1-47cb-ba17-aa2a8da2ccea",
   "metadata": {},
   "outputs": [],
   "source": [
    "from sklearn.feature_extraction import DictVectorizer\n",
    "from sklearn.linear_model import LogisticRegression"
   ]
  },
  {
   "cell_type": "code",
   "execution_count": 159,
   "id": "e41f906b-7081-4d81-afcc-2c10ee33cf79",
   "metadata": {},
   "outputs": [],
   "source": [
    "def train(df, y):\n",
    "    dicts = df[numerical_columns + categorical_columns].to_dict(orient = 'records')\n",
    "    dv = DictVectorizer(sparse = False)\n",
    "    X_train = dv.fit_transform(dicts)\n",
    "    model = LogisticRegression(solver='liblinear', C=1.0, max_iter=1000)\n",
    "    model.fit(X_train,y)\n",
    "    return dv, model"
   ]
  },
  {
   "cell_type": "code",
   "execution_count": 160,
   "id": "65b571bd-88e3-45c0-a0e9-e52e1cf9984c",
   "metadata": {},
   "outputs": [],
   "source": [
    "def predict (df, dv, model):\n",
    "    dicts = df[numerical_columns + categorical_columns].to_dict(orient = 'records')\n",
    "    X = dv.transform(dicts)\n",
    "    y_pred = model.predict_proba(X)[:,1]\n",
    "    return y_pred"
   ]
  },
  {
   "cell_type": "code",
   "execution_count": 161,
   "id": "69f0702d-7c1c-41b3-a7f3-cfb1b6fde17d",
   "metadata": {},
   "outputs": [],
   "source": [
    "dv, model = train(df_train, y_train)"
   ]
  },
  {
   "cell_type": "code",
   "execution_count": 162,
   "id": "66ed072f-930c-41d6-b3a8-965fb659170c",
   "metadata": {},
   "outputs": [],
   "source": [
    "y_pred = predict(df_val, dv, model)"
   ]
  },
  {
   "cell_type": "code",
   "execution_count": 163,
   "id": "1ec1bfe7-6b3e-4b4e-aeed-950cba476e89",
   "metadata": {},
   "outputs": [],
   "source": [
    "auc = roc_auc_score(y_val, y_pred)"
   ]
  },
  {
   "cell_type": "code",
   "execution_count": 164,
   "id": "7a4f3f53-ecba-4965-b6e3-ea271ec8216e",
   "metadata": {},
   "outputs": [
    {
     "data": {
      "text/plain": [
       "0.817"
      ]
     },
     "execution_count": 164,
     "metadata": {},
     "output_type": "execute_result"
    }
   ],
   "source": [
    "round(auc, 3)"
   ]
  },
  {
   "cell_type": "markdown",
   "id": "5aab0740-28a3-4c37-803d-2870c9ee334a",
   "metadata": {},
   "source": [
    "0.72 is close enough. Don't think the model will have AUC over 0.9"
   ]
  },
  {
   "cell_type": "markdown",
   "id": "230f3425-1b17-4eed-aca5-a2c1a411bd0e",
   "metadata": {},
   "source": [
    "Question 3: Precision and Recall"
   ]
  },
  {
   "cell_type": "code",
   "execution_count": 165,
   "id": "fca9cd1b-d7ae-476c-8c63-73f86a73bfcb",
   "metadata": {},
   "outputs": [],
   "source": [
    "columns = ['threshold', 'tp', 'tn', 'fp', 'fn']"
   ]
  },
  {
   "cell_type": "code",
   "execution_count": 166,
   "id": "cc5cebc6-dc42-4619-a9ee-61a2a8f29ad3",
   "metadata": {},
   "outputs": [],
   "source": [
    "scores = []"
   ]
  },
  {
   "cell_type": "code",
   "execution_count": 167,
   "id": "dbd36491-3e10-4a8c-9313-4dfdadafcaec",
   "metadata": {},
   "outputs": [],
   "source": [
    "for t in np.arange(0, 1, 0.01):\n",
    "    actual_positive = (y_val == 1)\n",
    "    actual_negative = (y_val == 0)\n",
    "    predict_positive = (y_pred >= t)\n",
    "    predict_negative = (y_pred < t)\n",
    "    tp = (actual_positive & predict_positive).sum()\n",
    "    tn = (actual_negative & predict_negative).sum()\n",
    "    fp = (predict_positive & actual_negative).sum()\n",
    "    fn = (predict_negative & actual_positive).sum()\n",
    "    #precision = tp/(tp+fp)\n",
    "    #recall = tp/(tp+fn)\n",
    "    scores.append((t, tp, tn, fp, fn))"
   ]
  },
  {
   "cell_type": "code",
   "execution_count": 168,
   "id": "bed1fecd-c0a9-4a0c-9c61-3ec9766e014d",
   "metadata": {},
   "outputs": [
    {
     "data": {
      "text/plain": [
       "[(np.float64(0.0), np.int64(171), np.int64(0), np.int64(122), np.int64(0)),\n",
       " (np.float64(0.01), np.int64(171), np.int64(0), np.int64(122), np.int64(0)),\n",
       " (np.float64(0.02), np.int64(171), np.int64(0), np.int64(122), np.int64(0)),\n",
       " (np.float64(0.03), np.int64(171), np.int64(0), np.int64(122), np.int64(0)),\n",
       " (np.float64(0.04), np.int64(171), np.int64(0), np.int64(122), np.int64(0)),\n",
       " (np.float64(0.05), np.int64(171), np.int64(0), np.int64(122), np.int64(0)),\n",
       " (np.float64(0.06), np.int64(171), np.int64(0), np.int64(122), np.int64(0)),\n",
       " (np.float64(0.07), np.int64(171), np.int64(0), np.int64(122), np.int64(0)),\n",
       " (np.float64(0.08), np.int64(171), np.int64(0), np.int64(122), np.int64(0)),\n",
       " (np.float64(0.09), np.int64(171), np.int64(0), np.int64(122), np.int64(0)),\n",
       " (np.float64(0.1), np.int64(171), np.int64(0), np.int64(122), np.int64(0)),\n",
       " (np.float64(0.11), np.int64(171), np.int64(0), np.int64(122), np.int64(0)),\n",
       " (np.float64(0.12), np.int64(171), np.int64(0), np.int64(122), np.int64(0)),\n",
       " (np.float64(0.13), np.int64(171), np.int64(0), np.int64(122), np.int64(0)),\n",
       " (np.float64(0.14), np.int64(171), np.int64(0), np.int64(122), np.int64(0)),\n",
       " (np.float64(0.15), np.int64(171), np.int64(0), np.int64(122), np.int64(0)),\n",
       " (np.float64(0.16), np.int64(171), np.int64(0), np.int64(122), np.int64(0)),\n",
       " (np.float64(0.17), np.int64(171), np.int64(0), np.int64(122), np.int64(0)),\n",
       " (np.float64(0.18), np.int64(171), np.int64(0), np.int64(122), np.int64(0)),\n",
       " (np.float64(0.19), np.int64(171), np.int64(0), np.int64(122), np.int64(0)),\n",
       " (np.float64(0.2), np.int64(171), np.int64(0), np.int64(122), np.int64(0)),\n",
       " (np.float64(0.21), np.int64(171), np.int64(0), np.int64(122), np.int64(0)),\n",
       " (np.float64(0.22), np.int64(171), np.int64(0), np.int64(122), np.int64(0)),\n",
       " (np.float64(0.23), np.int64(171), np.int64(0), np.int64(122), np.int64(0)),\n",
       " (np.float64(0.24), np.int64(171), np.int64(0), np.int64(122), np.int64(0)),\n",
       " (np.float64(0.25), np.int64(171), np.int64(0), np.int64(122), np.int64(0)),\n",
       " (np.float64(0.26), np.int64(171), np.int64(0), np.int64(122), np.int64(0)),\n",
       " (np.float64(0.27), np.int64(171), np.int64(1), np.int64(121), np.int64(0)),\n",
       " (np.float64(0.28), np.int64(171), np.int64(2), np.int64(120), np.int64(0)),\n",
       " (np.float64(0.29), np.int64(171), np.int64(3), np.int64(119), np.int64(0)),\n",
       " (np.float64(0.3), np.int64(171), np.int64(3), np.int64(119), np.int64(0)),\n",
       " (np.float64(0.31), np.int64(171), np.int64(3), np.int64(119), np.int64(0)),\n",
       " (np.float64(0.32), np.int64(171), np.int64(4), np.int64(118), np.int64(0)),\n",
       " (np.float64(0.33), np.int64(171), np.int64(4), np.int64(118), np.int64(0)),\n",
       " (np.float64(0.34), np.int64(171), np.int64(5), np.int64(117), np.int64(0)),\n",
       " (np.float64(0.35000000000000003),\n",
       "  np.int64(171),\n",
       "  np.int64(5),\n",
       "  np.int64(117),\n",
       "  np.int64(0)),\n",
       " (np.float64(0.36), np.int64(171), np.int64(7), np.int64(115), np.int64(0)),\n",
       " (np.float64(0.37), np.int64(171), np.int64(7), np.int64(115), np.int64(0)),\n",
       " (np.float64(0.38), np.int64(171), np.int64(9), np.int64(113), np.int64(0)),\n",
       " (np.float64(0.39), np.int64(171), np.int64(13), np.int64(109), np.int64(0)),\n",
       " (np.float64(0.4), np.int64(171), np.int64(17), np.int64(105), np.int64(0)),\n",
       " (np.float64(0.41000000000000003),\n",
       "  np.int64(170),\n",
       "  np.int64(18),\n",
       "  np.int64(104),\n",
       "  np.int64(1)),\n",
       " (np.float64(0.42), np.int64(170), np.int64(23), np.int64(99), np.int64(1)),\n",
       " (np.float64(0.43), np.int64(170), np.int64(24), np.int64(98), np.int64(1)),\n",
       " (np.float64(0.44), np.int64(170), np.int64(28), np.int64(94), np.int64(1)),\n",
       " (np.float64(0.45), np.int64(169), np.int64(30), np.int64(92), np.int64(2)),\n",
       " (np.float64(0.46), np.int64(169), np.int64(32), np.int64(90), np.int64(2)),\n",
       " (np.float64(0.47000000000000003),\n",
       "  np.int64(168),\n",
       "  np.int64(34),\n",
       "  np.int64(88),\n",
       "  np.int64(3)),\n",
       " (np.float64(0.48), np.int64(166), np.int64(39), np.int64(83), np.int64(5)),\n",
       " (np.float64(0.49), np.int64(165), np.int64(39), np.int64(83), np.int64(6)),\n",
       " (np.float64(0.5), np.int64(164), np.int64(41), np.int64(81), np.int64(7)),\n",
       " (np.float64(0.51), np.int64(163), np.int64(44), np.int64(78), np.int64(8)),\n",
       " (np.float64(0.52), np.int64(161), np.int64(49), np.int64(73), np.int64(10)),\n",
       " (np.float64(0.53), np.int64(161), np.int64(53), np.int64(69), np.int64(10)),\n",
       " (np.float64(0.54), np.int64(160), np.int64(56), np.int64(66), np.int64(11)),\n",
       " (np.float64(0.55), np.int64(159), np.int64(60), np.int64(62), np.int64(12)),\n",
       " (np.float64(0.56), np.int64(157), np.int64(62), np.int64(60), np.int64(14)),\n",
       " (np.float64(0.5700000000000001),\n",
       "  np.int64(156),\n",
       "  np.int64(65),\n",
       "  np.int64(57),\n",
       "  np.int64(15)),\n",
       " (np.float64(0.58), np.int64(154), np.int64(66), np.int64(56), np.int64(17)),\n",
       " (np.float64(0.59), np.int64(152), np.int64(69), np.int64(53), np.int64(19)),\n",
       " (np.float64(0.6), np.int64(150), np.int64(69), np.int64(53), np.int64(21)),\n",
       " (np.float64(0.61), np.int64(148), np.int64(72), np.int64(50), np.int64(23)),\n",
       " (np.float64(0.62), np.int64(143), np.int64(77), np.int64(45), np.int64(28)),\n",
       " (np.float64(0.63), np.int64(139), np.int64(79), np.int64(43), np.int64(32)),\n",
       " (np.float64(0.64), np.int64(134), np.int64(84), np.int64(38), np.int64(37)),\n",
       " (np.float64(0.65), np.int64(130), np.int64(85), np.int64(37), np.int64(41)),\n",
       " (np.float64(0.66), np.int64(124), np.int64(87), np.int64(35), np.int64(47)),\n",
       " (np.float64(0.67), np.int64(122), np.int64(91), np.int64(31), np.int64(49)),\n",
       " (np.float64(0.68), np.int64(116), np.int64(94), np.int64(28), np.int64(55)),\n",
       " (np.float64(0.6900000000000001),\n",
       "  np.int64(111),\n",
       "  np.int64(95),\n",
       "  np.int64(27),\n",
       "  np.int64(60)),\n",
       " (np.float64(0.7000000000000001),\n",
       "  np.int64(106),\n",
       "  np.int64(97),\n",
       "  np.int64(25),\n",
       "  np.int64(65)),\n",
       " (np.float64(0.71), np.int64(104), np.int64(99), np.int64(23), np.int64(67)),\n",
       " (np.float64(0.72), np.int64(97), np.int64(101), np.int64(21), np.int64(74)),\n",
       " (np.float64(0.73), np.int64(90), np.int64(103), np.int64(19), np.int64(81)),\n",
       " (np.float64(0.74), np.int64(88), np.int64(106), np.int64(16), np.int64(83)),\n",
       " (np.float64(0.75), np.int64(85), np.int64(107), np.int64(15), np.int64(86)),\n",
       " (np.float64(0.76), np.int64(82), np.int64(110), np.int64(12), np.int64(89)),\n",
       " (np.float64(0.77), np.int64(78), np.int64(111), np.int64(11), np.int64(93)),\n",
       " (np.float64(0.78), np.int64(72), np.int64(114), np.int64(8), np.int64(99)),\n",
       " (np.float64(0.79), np.int64(67), np.int64(116), np.int64(6), np.int64(104)),\n",
       " (np.float64(0.8), np.int64(64), np.int64(116), np.int64(6), np.int64(107)),\n",
       " (np.float64(0.81), np.int64(63), np.int64(116), np.int64(6), np.int64(108)),\n",
       " (np.float64(0.8200000000000001),\n",
       "  np.int64(59),\n",
       "  np.int64(118),\n",
       "  np.int64(4),\n",
       "  np.int64(112)),\n",
       " (np.float64(0.8300000000000001),\n",
       "  np.int64(53),\n",
       "  np.int64(118),\n",
       "  np.int64(4),\n",
       "  np.int64(118)),\n",
       " (np.float64(0.84), np.int64(52), np.int64(118), np.int64(4), np.int64(119)),\n",
       " (np.float64(0.85), np.int64(46), np.int64(120), np.int64(2), np.int64(125)),\n",
       " (np.float64(0.86), np.int64(41), np.int64(120), np.int64(2), np.int64(130)),\n",
       " (np.float64(0.87), np.int64(34), np.int64(120), np.int64(2), np.int64(137)),\n",
       " (np.float64(0.88), np.int64(31), np.int64(120), np.int64(2), np.int64(140)),\n",
       " (np.float64(0.89), np.int64(27), np.int64(121), np.int64(1), np.int64(144)),\n",
       " (np.float64(0.9), np.int64(24), np.int64(121), np.int64(1), np.int64(147)),\n",
       " (np.float64(0.91), np.int64(18), np.int64(121), np.int64(1), np.int64(153)),\n",
       " (np.float64(0.92), np.int64(11), np.int64(121), np.int64(1), np.int64(160)),\n",
       " (np.float64(0.93), np.int64(7), np.int64(122), np.int64(0), np.int64(164)),\n",
       " (np.float64(0.9400000000000001),\n",
       "  np.int64(7),\n",
       "  np.int64(122),\n",
       "  np.int64(0),\n",
       "  np.int64(164)),\n",
       " (np.float64(0.9500000000000001),\n",
       "  np.int64(5),\n",
       "  np.int64(122),\n",
       "  np.int64(0),\n",
       "  np.int64(166)),\n",
       " (np.float64(0.96), np.int64(3), np.int64(122), np.int64(0), np.int64(168)),\n",
       " (np.float64(0.97), np.int64(1), np.int64(122), np.int64(0), np.int64(170)),\n",
       " (np.float64(0.98), np.int64(0), np.int64(122), np.int64(0), np.int64(171)),\n",
       " (np.float64(0.99), np.int64(0), np.int64(122), np.int64(0), np.int64(171))]"
      ]
     },
     "execution_count": 168,
     "metadata": {},
     "output_type": "execute_result"
    }
   ],
   "source": [
    "scores"
   ]
  },
  {
   "cell_type": "code",
   "execution_count": 169,
   "id": "fe338983-058a-454b-bb48-776a248040a0",
   "metadata": {},
   "outputs": [],
   "source": [
    "df_scores = pd.DataFrame(scores, columns = ['threshold', 'tp', 'tn', 'fp', 'fn'])"
   ]
  },
  {
   "cell_type": "code",
   "execution_count": 170,
   "id": "fdc95d6d-d72d-4c95-9c69-f3a34cf0a18f",
   "metadata": {},
   "outputs": [
    {
     "data": {
      "text/html": [
       "<div>\n",
       "<style scoped>\n",
       "    .dataframe tbody tr th:only-of-type {\n",
       "        vertical-align: middle;\n",
       "    }\n",
       "\n",
       "    .dataframe tbody tr th {\n",
       "        vertical-align: top;\n",
       "    }\n",
       "\n",
       "    .dataframe thead th {\n",
       "        text-align: right;\n",
       "    }\n",
       "</style>\n",
       "<table border=\"1\" class=\"dataframe\">\n",
       "  <thead>\n",
       "    <tr style=\"text-align: right;\">\n",
       "      <th></th>\n",
       "      <th>threshold</th>\n",
       "      <th>tp</th>\n",
       "      <th>tn</th>\n",
       "      <th>fp</th>\n",
       "      <th>fn</th>\n",
       "    </tr>\n",
       "  </thead>\n",
       "  <tbody>\n",
       "    <tr>\n",
       "      <th>0</th>\n",
       "      <td>0.00</td>\n",
       "      <td>171</td>\n",
       "      <td>0</td>\n",
       "      <td>122</td>\n",
       "      <td>0</td>\n",
       "    </tr>\n",
       "    <tr>\n",
       "      <th>1</th>\n",
       "      <td>0.01</td>\n",
       "      <td>171</td>\n",
       "      <td>0</td>\n",
       "      <td>122</td>\n",
       "      <td>0</td>\n",
       "    </tr>\n",
       "    <tr>\n",
       "      <th>2</th>\n",
       "      <td>0.02</td>\n",
       "      <td>171</td>\n",
       "      <td>0</td>\n",
       "      <td>122</td>\n",
       "      <td>0</td>\n",
       "    </tr>\n",
       "    <tr>\n",
       "      <th>3</th>\n",
       "      <td>0.03</td>\n",
       "      <td>171</td>\n",
       "      <td>0</td>\n",
       "      <td>122</td>\n",
       "      <td>0</td>\n",
       "    </tr>\n",
       "    <tr>\n",
       "      <th>4</th>\n",
       "      <td>0.04</td>\n",
       "      <td>171</td>\n",
       "      <td>0</td>\n",
       "      <td>122</td>\n",
       "      <td>0</td>\n",
       "    </tr>\n",
       "    <tr>\n",
       "      <th>...</th>\n",
       "      <td>...</td>\n",
       "      <td>...</td>\n",
       "      <td>...</td>\n",
       "      <td>...</td>\n",
       "      <td>...</td>\n",
       "    </tr>\n",
       "    <tr>\n",
       "      <th>95</th>\n",
       "      <td>0.95</td>\n",
       "      <td>5</td>\n",
       "      <td>122</td>\n",
       "      <td>0</td>\n",
       "      <td>166</td>\n",
       "    </tr>\n",
       "    <tr>\n",
       "      <th>96</th>\n",
       "      <td>0.96</td>\n",
       "      <td>3</td>\n",
       "      <td>122</td>\n",
       "      <td>0</td>\n",
       "      <td>168</td>\n",
       "    </tr>\n",
       "    <tr>\n",
       "      <th>97</th>\n",
       "      <td>0.97</td>\n",
       "      <td>1</td>\n",
       "      <td>122</td>\n",
       "      <td>0</td>\n",
       "      <td>170</td>\n",
       "    </tr>\n",
       "    <tr>\n",
       "      <th>98</th>\n",
       "      <td>0.98</td>\n",
       "      <td>0</td>\n",
       "      <td>122</td>\n",
       "      <td>0</td>\n",
       "      <td>171</td>\n",
       "    </tr>\n",
       "    <tr>\n",
       "      <th>99</th>\n",
       "      <td>0.99</td>\n",
       "      <td>0</td>\n",
       "      <td>122</td>\n",
       "      <td>0</td>\n",
       "      <td>171</td>\n",
       "    </tr>\n",
       "  </tbody>\n",
       "</table>\n",
       "<p>100 rows × 5 columns</p>\n",
       "</div>"
      ],
      "text/plain": [
       "    threshold   tp   tn   fp   fn\n",
       "0        0.00  171    0  122    0\n",
       "1        0.01  171    0  122    0\n",
       "2        0.02  171    0  122    0\n",
       "3        0.03  171    0  122    0\n",
       "4        0.04  171    0  122    0\n",
       "..        ...  ...  ...  ...  ...\n",
       "95       0.95    5  122    0  166\n",
       "96       0.96    3  122    0  168\n",
       "97       0.97    1  122    0  170\n",
       "98       0.98    0  122    0  171\n",
       "99       0.99    0  122    0  171\n",
       "\n",
       "[100 rows x 5 columns]"
      ]
     },
     "execution_count": 170,
     "metadata": {},
     "output_type": "execute_result"
    }
   ],
   "source": [
    "df_scores"
   ]
  },
  {
   "cell_type": "code",
   "execution_count": 171,
   "id": "4761ea44-1e4f-4673-9e6a-c5dba1395ab5",
   "metadata": {},
   "outputs": [],
   "source": [
    "df_scores['precision'] = df_scores.tp/(df_scores.tp + df_scores.fp)"
   ]
  },
  {
   "cell_type": "code",
   "execution_count": 172,
   "id": "5ea641d5-e710-476f-811e-7c40dd4d52b2",
   "metadata": {},
   "outputs": [],
   "source": [
    "df_scores['recall'] = df_scores.tp/(df_scores.tp + df_scores.fn)"
   ]
  },
  {
   "cell_type": "code",
   "execution_count": 176,
   "id": "6091722d-b84c-4b94-9b6b-0582bd818dfd",
   "metadata": {},
   "outputs": [
    {
     "data": {
      "text/plain": [
       "<matplotlib.legend.Legend at 0x706713df3770>"
      ]
     },
     "execution_count": 176,
     "metadata": {},
     "output_type": "execute_result"
    },
    {
     "data": {
      "image/png": "[encoded data removed]",
      "text/plain": [
       "<Figure size 640x480 with 1 Axes>"
      ]
     },
     "metadata": {},
     "output_type": "display_data"
    }
   ],
   "source": [
    "plt.plot(df_scores.threshold, df_scores.precision, label='precision')\n",
    "plt.plot(df_scores.threshold, df_scores.recall, label='recall')\n",
    "plt.vlines(0.745, 0, 1, color='grey', linestyle='--', alpha=0.5)\n",
    "plt.legend()"
   ]
  },
  {
   "cell_type": "markdown",
   "id": "62c94e1c-5a43-4387-9128-d3e026659a66",
   "metadata": {},
   "source": [
    "At 0.745 threshold precision and recall curves intersect"
   ]
  },
  {
   "cell_type": "markdown",
   "id": "de6d03b5-0701-4b11-ab12-96b1054b9f8a",
   "metadata": {},
   "source": [
    "Question 4: F1 score"
   ]
  },
  {
   "cell_type": "code",
   "execution_count": 177,
   "id": "452ea063-038a-4d1d-8c92-9b29d3af871a",
   "metadata": {},
   "outputs": [],
   "source": [
    "df_scores['F1'] = 2 * df_scores.precision * df_scores.recall / (df_scores.precision + df_scores.recall)"
   ]
  },
  {
   "cell_type": "code",
   "execution_count": 178,
   "id": "00bee929-1295-43f6-8a9f-0d5d2894da98",
   "metadata": {},
   "outputs": [
    {
     "data": {
      "text/plain": [
       "<matplotlib.legend.Legend at 0x706710ab5460>"
      ]
     },
     "execution_count": 178,
     "metadata": {},
     "output_type": "execute_result"
    },
    {
     "data": {
      "image/png": "[encoded data removed]",
      "text/plain": [
       "<Figure size 640x480 with 1 Axes>"
      ]
     },
     "metadata": {},
     "output_type": "display_data"
    }
   ],
   "source": [
    "plt.plot(df_scores.threshold, df_scores['F1'], label='F1')\n",
    "plt.legend()"
   ]
  },
  {
   "cell_type": "markdown",
   "id": "035924df-d772-49c3-ba57-bb8cbec2fab3",
   "metadata": {},
   "source": [
    "At 0.54 threshold F1 is maximal"
   ]
  },
  {
   "cell_type": "markdown",
   "id": "c0b23f3e-5b00-4a69-84a7-7c6448a7bebc",
   "metadata": {},
   "source": [
    "Question 5: 5-Fold CV"
   ]
  },
  {
   "cell_type": "code",
   "execution_count": 179,
   "id": "36e947c8-ed48-45a5-aac6-38a16c581d9f",
   "metadata": {},
   "outputs": [],
   "source": [
    "from sklearn.model_selection import KFold"
   ]
  },
  {
   "cell_type": "code",
   "execution_count": 180,
   "id": "2a4a46b5-f913-47d4-b717-73d7bb7b7c8f",
   "metadata": {},
   "outputs": [],
   "source": [
    "scores = []"
   ]
  },
  {
   "cell_type": "code",
   "execution_count": 181,
   "id": "552a1e47-f449-4431-9ee1-69778831ba4b",
   "metadata": {},
   "outputs": [],
   "source": [
    "kfold = KFold(n_splits=5, shuffle=True, random_state=1)"
   ]
  },
  {
   "cell_type": "code",
   "execution_count": 182,
   "id": "a42a1611-b92e-4f40-a316-6e60656d7979",
   "metadata": {},
   "outputs": [],
   "source": [
    "for train_idx, val_idx in kfold.split(df_full_train):\n",
    "    df_train = df_full_train.iloc[train_idx]\n",
    "    df_val = df_full_train.iloc[val_idx]\n",
    "\n",
    "    y_train = df_train.converted.values\n",
    "    y_val = df_val.converted.values\n",
    "\n",
    "    del df_train['converted']\n",
    "    del df_val['converted']\n",
    "\n",
    "    dv, model = train (df_train, y_train)\n",
    "    y_pred = predict (df_val, dv, model)\n",
    "\n",
    "    auc = roc_auc_score(y_val, y_pred)\n",
    "\n",
    "    scores.append(auc)"
   ]
  },
  {
   "cell_type": "code",
   "execution_count": 183,
   "id": "1116244b-2f2b-4b13-9bd4-daa690b902a9",
   "metadata": {},
   "outputs": [
    {
     "data": {
      "text/plain": [
       "[0.8060745924216483,\n",
       " 0.8713738368910783,\n",
       " 0.7754320118852139,\n",
       " 0.8018368617683685,\n",
       " 0.8558272713202291]"
      ]
     },
     "execution_count": 183,
     "metadata": {},
     "output_type": "execute_result"
    }
   ],
   "source": [
    "scores"
   ]
  },
  {
   "cell_type": "code",
   "execution_count": 189,
   "id": "73a14507-2848-4a93-91fe-c545ca5cc55b",
   "metadata": {},
   "outputs": [
    {
     "name": "stdout",
     "output_type": "stream",
     "text": [
      "0.04\n"
     ]
    }
   ],
   "source": [
    "print('%.2f'% np.std(scores))"
   ]
  },
  {
   "cell_type": "markdown",
   "id": "17a0616d-487c-4594-9948-95066c40b8ed",
   "metadata": {},
   "source": [
    "0.06 is the closest standard deviation"
   ]
  },
  {
   "cell_type": "markdown",
   "id": "b92656cb-35d7-4ff6-be1c-4c645cb0764d",
   "metadata": {},
   "source": [
    "Question 6: Hyperparameter Tuning"
   ]
  },
  {
   "cell_type": "code",
   "execution_count": 213,
   "id": "d868b1e1-e110-45e8-a114-728d5a831fb0",
   "metadata": {},
   "outputs": [],
   "source": [
    "def train(df, y, C):\n",
    "    dicts = df[numerical_columns + categorical_columns].to_dict(orient = 'records')\n",
    "    dv = DictVectorizer(sparse = False)\n",
    "    X_train = dv.fit_transform(dicts)\n",
    "    model = LogisticRegression(solver='liblinear', C=C, max_iter=1000)\n",
    "    model.fit(X_train,y)\n",
    "    return dv, model"
   ]
  },
  {
   "cell_type": "code",
   "execution_count": 214,
   "id": "951bb723-2e19-4a81-b2b6-db148fdc253b",
   "metadata": {},
   "outputs": [],
   "source": [
    "scores = []"
   ]
  },
  {
   "cell_type": "code",
   "execution_count": 218,
   "id": "62ea6390-457f-4184-b98d-fae19c668c00",
   "metadata": {},
   "outputs": [
    {
     "name": "stdout",
     "output_type": "stream",
     "text": [
      "C=1e-06, 0.723 +- 0.145\n",
      "C=0.001, 0.741 +- 0.144\n",
      "C=   1, 0.750 +- 0.139\n"
     ]
    }
   ],
   "source": [
    "for C in [0.000001, 0.001, 1]:\n",
    "    for train_idx, val_idx in kfold.split(df_full_train):\n",
    "        df_train = df_full_train.iloc[train_idx]\n",
    "        df_val = df_full_train.iloc[val_idx]\n",
    "    \n",
    "        y_train = df_train.converted.values\n",
    "        y_val = df_val.converted.values\n",
    "    \n",
    "        del df_train['converted']\n",
    "        del df_val['converted']\n",
    "    \n",
    "        dv, model = train (df_train, y_train, C=C)\n",
    "        y_pred = predict (df_val, dv, model)\n",
    "    \n",
    "        auc = roc_auc_score(y_val, y_pred)\n",
    "    \n",
    "        scores.append(auc)\n",
    "    print('C=%4s, %.3f +- %.3f' % (C, np.mean(scores), np.std(scores)))"
   ]
  },
  {
   "cell_type": "markdown",
   "id": "f12d0865-44df-43bc-8756-457b8b50c96b",
   "metadata": {},
   "source": [
    "C = 1 leads to the best mean score"
   ]
  }
 ],
 "metadata": {
  "kernelspec": {
   "display_name": "Python 3 (ipykernel)",
   "language": "python",
   "name": "python3"
  },
  "language_info": {
   "codemirror_mode": {
    "name": "ipython",
    "version": 3
   },
   "file_extension": ".py",
   "mimetype": "text/x-python",
   "name": "python",
   "nbconvert_exporter": "python",
   "pygments_lexer": "ipython3",
   "version": "3.12.1"
  }
 },
 "nbformat": 4,
 "nbformat_minor": 5
}
