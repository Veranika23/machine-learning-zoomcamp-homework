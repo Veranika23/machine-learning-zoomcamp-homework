{
 "cells": [
  {
   "cell_type": "code",
   "execution_count": 4,
   "id": "32431f2a-6b64-4ee9-9115-8feca1356e74",
   "metadata": {},
   "outputs": [
    {
     "name": "stdout",
     "output_type": "stream",
     "text": [
      "Requirement already satisfied: wget in /usr/local/python/3.12.1/lib/python3.12/site-packages (3.2)\n",
      "\n",
      "\u001b[1m[\u001b[0m\u001b[34;49mnotice\u001b[0m\u001b[1;39;49m]\u001b[0m\u001b[39;49m A new release of pip is available: \u001b[0m\u001b[31;49m25.1.1\u001b[0m\u001b[39;49m -> \u001b[0m\u001b[32;49m25.2\u001b[0m\n",
      "\u001b[1m[\u001b[0m\u001b[34;49mnotice\u001b[0m\u001b[1;39;49m]\u001b[0m\u001b[39;49m To update, run: \u001b[0m\u001b[32;49mpython3 -m pip install --upgrade pip\u001b[0m\n"
     ]
    }
   ],
   "source": [
    "!pip install wget\n",
    "import pandas as pd\n",
    "import wget\n",
    "import numpy as np\n",
    "import matplotlib.pyplot as plt\n",
    "import seaborn as sns\n",
    "%matplotlib inline"
   ]
  },
  {
   "cell_type": "code",
   "execution_count": 5,
   "id": "f1e65398-cdbe-4b0d-8b27-b4432597a595",
   "metadata": {},
   "outputs": [],
   "source": [
    "url =  'https://raw.githubusercontent.com/alexeygrigorev/datasets/master/car_fuel_efficiency.csv'"
   ]
  },
  {
   "cell_type": "code",
   "execution_count": 6,
   "id": "6d578427-bddb-43d2-8209-93b184f4a8e9",
   "metadata": {},
   "outputs": [
    {
     "name": "stdout",
     "output_type": "stream",
     "text": [
      "100% [.........................................................] 874188 / 874188"
     ]
    }
   ],
   "source": [
    "downloaded_file = wget.download(url)"
   ]
  },
  {
   "cell_type": "code",
   "execution_count": 7,
   "id": "b799eb98-e1d7-41ef-ab34-fc2d8a3e063f",
   "metadata": {},
   "outputs": [],
   "source": [
    "df = pd.read_csv(downloaded_file)"
   ]
  },
  {
   "cell_type": "code",
   "execution_count": 8,
   "id": "48cfd55b-6a94-4d34-9b53-662b94441fe8",
   "metadata": {},
   "outputs": [
    {
     "data": {
      "text/html": [
       "<div>\n",
       "<style scoped>\n",
       "    .dataframe tbody tr th:only-of-type {\n",
       "        vertical-align: middle;\n",
       "    }\n",
       "\n",
       "    .dataframe tbody tr th {\n",
       "        vertical-align: top;\n",
       "    }\n",
       "\n",
       "    .dataframe thead th {\n",
       "        text-align: right;\n",
       "    }\n",
       "</style>\n",
       "<table border=\"1\" class=\"dataframe\">\n",
       "  <thead>\n",
       "    <tr style=\"text-align: right;\">\n",
       "      <th></th>\n",
       "      <th>engine_displacement</th>\n",
       "      <th>num_cylinders</th>\n",
       "      <th>horsepower</th>\n",
       "      <th>vehicle_weight</th>\n",
       "      <th>acceleration</th>\n",
       "      <th>model_year</th>\n",
       "      <th>origin</th>\n",
       "      <th>fuel_type</th>\n",
       "      <th>drivetrain</th>\n",
       "      <th>num_doors</th>\n",
       "      <th>fuel_efficiency_mpg</th>\n",
       "    </tr>\n",
       "  </thead>\n",
       "  <tbody>\n",
       "    <tr>\n",
       "      <th>0</th>\n",
       "      <td>170</td>\n",
       "      <td>3.0</td>\n",
       "      <td>159.0</td>\n",
       "      <td>3413.433759</td>\n",
       "      <td>17.7</td>\n",
       "      <td>2003</td>\n",
       "      <td>Europe</td>\n",
       "      <td>Gasoline</td>\n",
       "      <td>All-wheel drive</td>\n",
       "      <td>0.0</td>\n",
       "      <td>13.231729</td>\n",
       "    </tr>\n",
       "    <tr>\n",
       "      <th>1</th>\n",
       "      <td>130</td>\n",
       "      <td>5.0</td>\n",
       "      <td>97.0</td>\n",
       "      <td>3149.664934</td>\n",
       "      <td>17.8</td>\n",
       "      <td>2007</td>\n",
       "      <td>USA</td>\n",
       "      <td>Gasoline</td>\n",
       "      <td>Front-wheel drive</td>\n",
       "      <td>0.0</td>\n",
       "      <td>13.688217</td>\n",
       "    </tr>\n",
       "    <tr>\n",
       "      <th>2</th>\n",
       "      <td>170</td>\n",
       "      <td>NaN</td>\n",
       "      <td>78.0</td>\n",
       "      <td>3079.038997</td>\n",
       "      <td>15.1</td>\n",
       "      <td>2018</td>\n",
       "      <td>Europe</td>\n",
       "      <td>Gasoline</td>\n",
       "      <td>Front-wheel drive</td>\n",
       "      <td>0.0</td>\n",
       "      <td>14.246341</td>\n",
       "    </tr>\n",
       "    <tr>\n",
       "      <th>3</th>\n",
       "      <td>220</td>\n",
       "      <td>4.0</td>\n",
       "      <td>NaN</td>\n",
       "      <td>2542.392402</td>\n",
       "      <td>20.2</td>\n",
       "      <td>2009</td>\n",
       "      <td>USA</td>\n",
       "      <td>Diesel</td>\n",
       "      <td>All-wheel drive</td>\n",
       "      <td>2.0</td>\n",
       "      <td>16.912736</td>\n",
       "    </tr>\n",
       "    <tr>\n",
       "      <th>4</th>\n",
       "      <td>210</td>\n",
       "      <td>1.0</td>\n",
       "      <td>140.0</td>\n",
       "      <td>3460.870990</td>\n",
       "      <td>14.4</td>\n",
       "      <td>2009</td>\n",
       "      <td>Europe</td>\n",
       "      <td>Gasoline</td>\n",
       "      <td>All-wheel drive</td>\n",
       "      <td>2.0</td>\n",
       "      <td>12.488369</td>\n",
       "    </tr>\n",
       "  </tbody>\n",
       "</table>\n",
       "</div>"
      ],
      "text/plain": [
       "   engine_displacement  num_cylinders  horsepower  vehicle_weight  \\\n",
       "0                  170            3.0       159.0     3413.433759   \n",
       "1                  130            5.0        97.0     3149.664934   \n",
       "2                  170            NaN        78.0     3079.038997   \n",
       "3                  220            4.0         NaN     2542.392402   \n",
       "4                  210            1.0       140.0     3460.870990   \n",
       "\n",
       "   acceleration  model_year  origin fuel_type         drivetrain  num_doors  \\\n",
       "0          17.7        2003  Europe  Gasoline    All-wheel drive        0.0   \n",
       "1          17.8        2007     USA  Gasoline  Front-wheel drive        0.0   \n",
       "2          15.1        2018  Europe  Gasoline  Front-wheel drive        0.0   \n",
       "3          20.2        2009     USA    Diesel    All-wheel drive        2.0   \n",
       "4          14.4        2009  Europe  Gasoline    All-wheel drive        2.0   \n",
       "\n",
       "   fuel_efficiency_mpg  \n",
       "0            13.231729  \n",
       "1            13.688217  \n",
       "2            14.246341  \n",
       "3            16.912736  \n",
       "4            12.488369  "
      ]
     },
     "execution_count": 8,
     "metadata": {},
     "output_type": "execute_result"
    }
   ],
   "source": [
    "df.head()"
   ]
  },
  {
   "cell_type": "code",
   "execution_count": 9,
   "id": "f475fa21-8d7f-446e-aad1-6137e6c93d78",
   "metadata": {},
   "outputs": [],
   "source": [
    "base = ['engine_displacement', 'horsepower', 'vehicle_weight', 'model_year']"
   ]
  },
  {
   "cell_type": "code",
   "execution_count": 10,
   "id": "c737308d-f72c-44c0-ac6b-309a26b89353",
   "metadata": {
    "scrolled": true
   },
   "outputs": [
    {
     "data": {
      "text/plain": [
       "<Axes: xlabel='fuel_efficiency_mpg', ylabel='Count'>"
      ]
     },
     "execution_count": 10,
     "metadata": {},
     "output_type": "execute_result"
    },
    {
     "data": {
      "image/png": "[encoded data removed]",
      "text/plain": [
       "<Figure size 640x480 with 1 Axes>"
      ]
     },
     "metadata": {},
     "output_type": "display_data"
    }
   ],
   "source": [
    "sns.histplot(df['fuel_efficiency_mpg'])"
   ]
  },
  {
   "cell_type": "markdown",
   "id": "8cad281d-2815-4081-bd37-b41ec79966a0",
   "metadata": {},
   "source": [
    "Question 1"
   ]
  },
  {
   "cell_type": "code",
   "execution_count": 11,
   "id": "6f4640b7-2e3c-448a-a9d6-1ba01007334d",
   "metadata": {},
   "outputs": [
    {
     "data": {
      "text/plain": [
       "engine_displacement      0\n",
       "horsepower             708\n",
       "vehicle_weight           0\n",
       "model_year               0\n",
       "dtype: int64"
      ]
     },
     "execution_count": 11,
     "metadata": {},
     "output_type": "execute_result"
    }
   ],
   "source": [
    "df[base].isnull().sum()"
   ]
  },
  {
   "cell_type": "markdown",
   "id": "41defc33-e8c0-4d47-bb09-a602f88c23b1",
   "metadata": {},
   "source": [
    "'horsepower' has missing values"
   ]
  },
  {
   "cell_type": "markdown",
   "id": "130240c3-ea88-4857-830c-7b5c5659a8ab",
   "metadata": {},
   "source": [
    "Question 2"
   ]
  },
  {
   "cell_type": "code",
   "execution_count": 12,
   "id": "c587cf18-ab30-4389-92ff-1be9cb064d22",
   "metadata": {},
   "outputs": [
    {
     "data": {
      "text/plain": [
       "np.float64(149.0)"
      ]
     },
     "execution_count": 12,
     "metadata": {},
     "output_type": "execute_result"
    }
   ],
   "source": [
    "df['horsepower'].median()"
   ]
  },
  {
   "cell_type": "code",
   "execution_count": 13,
   "id": "bfa94724-bf1b-43a5-98f2-d17bd7e5ceb6",
   "metadata": {},
   "outputs": [],
   "source": [
    "n_val = int(len(df)*0.2)"
   ]
  },
  {
   "cell_type": "code",
   "execution_count": 14,
   "id": "f0ebe6bf-8853-490e-8d50-899103db7832",
   "metadata": {},
   "outputs": [],
   "source": [
    "n_test = int(len(df)*0.2)"
   ]
  },
  {
   "cell_type": "code",
   "execution_count": 15,
   "id": "a26f1343-dffc-44fe-b37c-264b119e8465",
   "metadata": {},
   "outputs": [],
   "source": [
    "n_train = len(df) - n_val - n_test"
   ]
  },
  {
   "cell_type": "code",
   "execution_count": 16,
   "id": "66422919-9896-4c4d-b9d1-0a3ee02e9599",
   "metadata": {},
   "outputs": [
    {
     "data": {
      "text/plain": [
       "(1940, 1940, 5824)"
      ]
     },
     "execution_count": 16,
     "metadata": {},
     "output_type": "execute_result"
    }
   ],
   "source": [
    "n_val, n_test, n_train"
   ]
  },
  {
   "cell_type": "code",
   "execution_count": 17,
   "id": "80ebeca3-613e-49bc-9539-7220969808c4",
   "metadata": {},
   "outputs": [],
   "source": [
    "idx = np.arange(len(df))"
   ]
  },
  {
   "cell_type": "code",
   "execution_count": 18,
   "id": "1f593cfd-091b-4058-a1cb-c1df9531fca9",
   "metadata": {},
   "outputs": [],
   "source": [
    "np.random.seed(42)"
   ]
  },
  {
   "cell_type": "code",
   "execution_count": 19,
   "id": "242c27fd-cf71-4421-be05-9ba9ac8e761e",
   "metadata": {},
   "outputs": [],
   "source": [
    "np.random.shuffle(idx)"
   ]
  },
  {
   "cell_type": "code",
   "execution_count": 20,
   "id": "3d9a28e6-6c51-4386-b226-986dfb115891",
   "metadata": {},
   "outputs": [
    {
     "data": {
      "text/html": [
       "<div>\n",
       "<style scoped>\n",
       "    .dataframe tbody tr th:only-of-type {\n",
       "        vertical-align: middle;\n",
       "    }\n",
       "\n",
       "    .dataframe tbody tr th {\n",
       "        vertical-align: top;\n",
       "    }\n",
       "\n",
       "    .dataframe thead th {\n",
       "        text-align: right;\n",
       "    }\n",
       "</style>\n",
       "<table border=\"1\" class=\"dataframe\">\n",
       "  <thead>\n",
       "    <tr style=\"text-align: right;\">\n",
       "      <th></th>\n",
       "      <th>engine_displacement</th>\n",
       "      <th>num_cylinders</th>\n",
       "      <th>horsepower</th>\n",
       "      <th>vehicle_weight</th>\n",
       "      <th>acceleration</th>\n",
       "      <th>model_year</th>\n",
       "      <th>origin</th>\n",
       "      <th>fuel_type</th>\n",
       "      <th>drivetrain</th>\n",
       "      <th>num_doors</th>\n",
       "      <th>fuel_efficiency_mpg</th>\n",
       "    </tr>\n",
       "  </thead>\n",
       "  <tbody>\n",
       "    <tr>\n",
       "      <th>0</th>\n",
       "      <td>170</td>\n",
       "      <td>3.0</td>\n",
       "      <td>159.0</td>\n",
       "      <td>3413.433759</td>\n",
       "      <td>17.7</td>\n",
       "      <td>2003</td>\n",
       "      <td>Europe</td>\n",
       "      <td>Gasoline</td>\n",
       "      <td>All-wheel drive</td>\n",
       "      <td>0.0</td>\n",
       "      <td>13.231729</td>\n",
       "    </tr>\n",
       "    <tr>\n",
       "      <th>1</th>\n",
       "      <td>130</td>\n",
       "      <td>5.0</td>\n",
       "      <td>97.0</td>\n",
       "      <td>3149.664934</td>\n",
       "      <td>17.8</td>\n",
       "      <td>2007</td>\n",
       "      <td>USA</td>\n",
       "      <td>Gasoline</td>\n",
       "      <td>Front-wheel drive</td>\n",
       "      <td>0.0</td>\n",
       "      <td>13.688217</td>\n",
       "    </tr>\n",
       "    <tr>\n",
       "      <th>2</th>\n",
       "      <td>170</td>\n",
       "      <td>NaN</td>\n",
       "      <td>78.0</td>\n",
       "      <td>3079.038997</td>\n",
       "      <td>15.1</td>\n",
       "      <td>2018</td>\n",
       "      <td>Europe</td>\n",
       "      <td>Gasoline</td>\n",
       "      <td>Front-wheel drive</td>\n",
       "      <td>0.0</td>\n",
       "      <td>14.246341</td>\n",
       "    </tr>\n",
       "    <tr>\n",
       "      <th>3</th>\n",
       "      <td>220</td>\n",
       "      <td>4.0</td>\n",
       "      <td>NaN</td>\n",
       "      <td>2542.392402</td>\n",
       "      <td>20.2</td>\n",
       "      <td>2009</td>\n",
       "      <td>USA</td>\n",
       "      <td>Diesel</td>\n",
       "      <td>All-wheel drive</td>\n",
       "      <td>2.0</td>\n",
       "      <td>16.912736</td>\n",
       "    </tr>\n",
       "    <tr>\n",
       "      <th>4</th>\n",
       "      <td>210</td>\n",
       "      <td>1.0</td>\n",
       "      <td>140.0</td>\n",
       "      <td>3460.870990</td>\n",
       "      <td>14.4</td>\n",
       "      <td>2009</td>\n",
       "      <td>Europe</td>\n",
       "      <td>Gasoline</td>\n",
       "      <td>All-wheel drive</td>\n",
       "      <td>2.0</td>\n",
       "      <td>12.488369</td>\n",
       "    </tr>\n",
       "  </tbody>\n",
       "</table>\n",
       "</div>"
      ],
      "text/plain": [
       "   engine_displacement  num_cylinders  horsepower  vehicle_weight  \\\n",
       "0                  170            3.0       159.0     3413.433759   \n",
       "1                  130            5.0        97.0     3149.664934   \n",
       "2                  170            NaN        78.0     3079.038997   \n",
       "3                  220            4.0         NaN     2542.392402   \n",
       "4                  210            1.0       140.0     3460.870990   \n",
       "\n",
       "   acceleration  model_year  origin fuel_type         drivetrain  num_doors  \\\n",
       "0          17.7        2003  Europe  Gasoline    All-wheel drive        0.0   \n",
       "1          17.8        2007     USA  Gasoline  Front-wheel drive        0.0   \n",
       "2          15.1        2018  Europe  Gasoline  Front-wheel drive        0.0   \n",
       "3          20.2        2009     USA    Diesel    All-wheel drive        2.0   \n",
       "4          14.4        2009  Europe  Gasoline    All-wheel drive        2.0   \n",
       "\n",
       "   fuel_efficiency_mpg  \n",
       "0            13.231729  \n",
       "1            13.688217  \n",
       "2            14.246341  \n",
       "3            16.912736  \n",
       "4            12.488369  "
      ]
     },
     "execution_count": 20,
     "metadata": {},
     "output_type": "execute_result"
    }
   ],
   "source": [
    "df.head()"
   ]
  },
  {
   "cell_type": "code",
   "execution_count": 21,
   "id": "4e05a541-7858-4b35-a840-c86506dfc031",
   "metadata": {},
   "outputs": [],
   "source": [
    "df_train = df.iloc[idx[:n_train]]"
   ]
  },
  {
   "cell_type": "code",
   "execution_count": 22,
   "id": "83c947f2-8c3b-4c88-8218-be2a00dbe0c2",
   "metadata": {},
   "outputs": [],
   "source": [
    "df_val = df.iloc[idx[n_train:n_train + n_val]]"
   ]
  },
  {
   "cell_type": "code",
   "execution_count": 23,
   "id": "8d15c946-7c45-4455-82f3-a446fddb6720",
   "metadata": {},
   "outputs": [],
   "source": [
    "df_test = df.iloc[idx[n_train + n_val:]]"
   ]
  },
  {
   "cell_type": "code",
   "execution_count": 24,
   "id": "e8879b1a-2dd6-49a9-b353-3e73355964a0",
   "metadata": {},
   "outputs": [],
   "source": [
    "df_train = df_train.reset_index(drop=True)"
   ]
  },
  {
   "cell_type": "code",
   "execution_count": 25,
   "id": "702041c3-86a0-4c24-8cee-06051af77497",
   "metadata": {},
   "outputs": [],
   "source": [
    "df_val = df_val.reset_index(drop=True)"
   ]
  },
  {
   "cell_type": "code",
   "execution_count": 26,
   "id": "f5d8bce5-54d1-439b-a0bb-f476519480b3",
   "metadata": {},
   "outputs": [],
   "source": [
    "df_test = df_test.reset_index(drop=True)"
   ]
  },
  {
   "cell_type": "markdown",
   "id": "0d8a6a76-6547-4b07-850d-23d24d33177f",
   "metadata": {},
   "source": [
    "Question 3"
   ]
  },
  {
   "cell_type": "code",
   "execution_count": 27,
   "id": "551c5932-7a77-41d7-a8cb-6ad903b0447e",
   "metadata": {},
   "outputs": [],
   "source": [
    "mean_horsepower = df_train['horsepower'].mean()"
   ]
  },
  {
   "cell_type": "code",
   "execution_count": 28,
   "id": "859902fd-785b-43dd-893f-2965ac3b3f6a",
   "metadata": {},
   "outputs": [],
   "source": [
    "def prepare_X_mean (df):\n",
    "    df = df.copy()\n",
    "    df['age'] = 2023 - df['model_year']\n",
    "    df_num = df[base]\n",
    "    df_num = df_num.fillna(mean_horsepower)\n",
    "    X = df_num.values\n",
    "    return X"
   ]
  },
  {
   "cell_type": "code",
   "execution_count": 29,
   "id": "146ea9b7-7a65-404a-a4ea-4e6fc2cc64db",
   "metadata": {},
   "outputs": [],
   "source": [
    "def prepare_X_zero (df):\n",
    "    df = df.copy()\n",
    "    df['age'] = 2023 - df['model_year']\n",
    "    df_num = df[base]\n",
    "    df_num = df_num.fillna(0)\n",
    "    X = df_num.values\n",
    "    return X"
   ]
  },
  {
   "cell_type": "code",
   "execution_count": 30,
   "id": "0b5ddaac-c35b-475b-aad1-d125a7574c26",
   "metadata": {},
   "outputs": [],
   "source": [
    "def train_linear_regression (X, y):\n",
    "    ones = np.ones(X.shape[0])\n",
    "    X = np.column_stack([ones, X])\n",
    "    XTX = X.T.dot(X)\n",
    "    XTX_inv = np.linalg.inv(XTX)\n",
    "    w_full = XTX_inv.dot(X.T).dot(y)\n",
    "    return w_full[0], w_full[1:] "
   ]
  },
  {
   "cell_type": "code",
   "execution_count": 31,
   "id": "ead138c7-11f9-4f75-8530-492448266e6a",
   "metadata": {},
   "outputs": [],
   "source": [
    "def rmse (y, y_pred):\n",
    "    error = y - y_pred\n",
    "    se = error ** 2\n",
    "    mse = se.mean()\n",
    "    return np.sqrt(mse)"
   ]
  },
  {
   "cell_type": "code",
   "execution_count": 32,
   "id": "189065e8-352d-40bc-8025-334a4dc5d933",
   "metadata": {},
   "outputs": [],
   "source": [
    "x_train_mean = prepare_X_mean (df_train)"
   ]
  },
  {
   "cell_type": "code",
   "execution_count": 33,
   "id": "9d29b1a9-2fc2-4908-8128-b6fcc87630a1",
   "metadata": {},
   "outputs": [],
   "source": [
    "x_train_zero = prepare_X_zero (df_train)"
   ]
  },
  {
   "cell_type": "code",
   "execution_count": 34,
   "id": "5b8bae0e-dae3-4a6e-9fe0-8807ddbf6322",
   "metadata": {},
   "outputs": [],
   "source": [
    "y_train = df_train['fuel_efficiency_mpg'].values"
   ]
  },
  {
   "cell_type": "code",
   "execution_count": 35,
   "id": "e1aa0456-c813-4569-a040-e0e68849c15c",
   "metadata": {},
   "outputs": [],
   "source": [
    "wo_mean, w_mean = train_linear_regression (x_train_mean, y_train)"
   ]
  },
  {
   "cell_type": "code",
   "execution_count": 36,
   "id": "93a8996e-7e24-4c1e-af99-86fa22bdec64",
   "metadata": {},
   "outputs": [
    {
     "data": {
      "text/plain": [
       "(np.float64(28.925259952113596),\n",
       " array([ 0.00012093,  0.01030308, -0.00501009, -0.00023463]))"
      ]
     },
     "execution_count": 36,
     "metadata": {},
     "output_type": "execute_result"
    }
   ],
   "source": [
    "wo_mean, w_mean"
   ]
  },
  {
   "cell_type": "code",
   "execution_count": 37,
   "id": "f89f8b99-be3d-4991-92d7-c9fed83b4f67",
   "metadata": {},
   "outputs": [],
   "source": [
    "wo_zero, w_zero = train_linear_regression (x_train_zero, y_train)"
   ]
  },
  {
   "cell_type": "code",
   "execution_count": 38,
   "id": "165f3311-c7d0-4a45-9092-3cb5807bace4",
   "metadata": {},
   "outputs": [],
   "source": [
    "x_val_mean = prepare_X_mean (df_val)"
   ]
  },
  {
   "cell_type": "code",
   "execution_count": 39,
   "id": "feeeed98-e794-494e-a1ec-35d7db2a52e0",
   "metadata": {},
   "outputs": [],
   "source": [
    "x_val_zero = prepare_X_zero (df_val)"
   ]
  },
  {
   "cell_type": "code",
   "execution_count": 40,
   "id": "dcf97f80-d188-46c5-b051-e92c1042355b",
   "metadata": {},
   "outputs": [],
   "source": [
    "y_val = df_val['fuel_efficiency_mpg'].values"
   ]
  },
  {
   "cell_type": "code",
   "execution_count": 41,
   "id": "543add65-dec5-42cd-823f-1fafe3794137",
   "metadata": {},
   "outputs": [],
   "source": [
    "y_pred_mean = wo_mean + x_val_mean.dot(w_mean)"
   ]
  },
  {
   "cell_type": "code",
   "execution_count": 42,
   "id": "3ab12c93-07bd-4184-a2b5-6078554839f6",
   "metadata": {},
   "outputs": [],
   "source": [
    "y_pred_zero = wo_zero + x_val_zero.dot(w_zero)"
   ]
  },
  {
   "cell_type": "code",
   "execution_count": 43,
   "id": "e376847f-fe22-4c20-a27e-dccb17bd5448",
   "metadata": {},
   "outputs": [],
   "source": [
    "rmse_mean = rmse (y_val, y_pred_mean)"
   ]
  },
  {
   "cell_type": "code",
   "execution_count": 44,
   "id": "9ca07aca-a88f-40fe-9e94-07231f0aa2c8",
   "metadata": {},
   "outputs": [],
   "source": [
    "rmse_zero = rmse (y_val, y_pred_zero)"
   ]
  },
  {
   "cell_type": "code",
   "execution_count": 45,
   "id": "c9d3e539-c89b-46da-9994-a8663852c4fc",
   "metadata": {},
   "outputs": [
    {
     "data": {
      "text/plain": [
       "(np.float64(0.46359650423506327), np.float64(0.5173782638857467))"
      ]
     },
     "execution_count": 45,
     "metadata": {},
     "output_type": "execute_result"
    }
   ],
   "source": [
    "rmse_mean, rmse_zero"
   ]
  },
  {
   "cell_type": "markdown",
   "id": "4a44c012-fe7d-414c-9149-381a4e16c79e",
   "metadata": {},
   "source": [
    "Option with mean gives better RMSE"
   ]
  },
  {
   "cell_type": "markdown",
   "id": "042fcff0-3994-4425-814a-d031f0c979ce",
   "metadata": {},
   "source": [
    "Question 4"
   ]
  },
  {
   "cell_type": "code",
   "execution_count": 46,
   "id": "9813eac2-8acc-4317-a256-8d7b2424654c",
   "metadata": {},
   "outputs": [],
   "source": [
    "def train_linear_regression_reg (X, y, r):\n",
    "    ones = np.ones(X.shape[0])\n",
    "    X = np.column_stack([ones, X])\n",
    "    XTX = X.T.dot(X)\n",
    "    XTX = XTX +r*np.eye(XTX.shape[0])\n",
    "    XTX_inv = np.linalg.inv(XTX)\n",
    "    w_full = XTX_inv.dot(X.T).dot(y)\n",
    "    return w_full[0], w_full[1:] "
   ]
  },
  {
   "cell_type": "code",
   "execution_count": 47,
   "id": "02094cdd-0d73-499e-baf4-d65f198173c4",
   "metadata": {},
   "outputs": [
    {
     "name": "stdout",
     "output_type": "stream",
     "text": [
      "0 28.827365475106156 0.52\n",
      "0.01 24.92683842008767 0.52\n",
      "0.1 11.239661084961272 0.52\n",
      "1 1.7315979411936366 0.52\n",
      "5 0.3638075020692219 0.52\n",
      "10 0.18306246622306527 0.52\n",
      "100 0.018418017306977234 0.52\n"
     ]
    }
   ],
   "source": [
    "for r in [0, 0.01, 0.1, 1, 5, 10, 100]:\n",
    "    X_train = prepare_X_zero (df_train)\n",
    "    w0, w = train_linear_regression_reg (X_train, y_train, r=r)\n",
    "    X_val = prepare_X_zero (df_val)\n",
    "    y_pred = w0 + X_val.dot(w)\n",
    "    score = rmse (y_val, y_pred)\n",
    "    print(r, w0, round(score,2))"
   ]
  },
  {
   "cell_type": "markdown",
   "id": "88de4c06-192a-4f91-990f-9d0e312760b4",
   "metadata": {},
   "source": [
    "0.01 gives the best result"
   ]
  },
  {
   "cell_type": "markdown",
   "id": "1a775f9b-e865-4233-9db2-84d72d017724",
   "metadata": {},
   "source": [
    "Question 5"
   ]
  },
  {
   "cell_type": "code",
   "execution_count": 48,
   "id": "f5940ffe-1b7d-4c05-9b0d-6d94e891e084",
   "metadata": {},
   "outputs": [
    {
     "name": "stdout",
     "output_type": "stream",
     "text": [
      "0.0\n",
      "0.0\n",
      "0.0\n",
      "0.0\n",
      "0.0\n",
      "0.0\n",
      "0.0\n",
      "0.0\n",
      "0.0\n",
      "0.0\n"
     ]
    }
   ],
   "source": [
    "for seed in [0, 1, 2, 3, 4, 5, 6, 7, 8, 9]:\n",
    "    idx = np.arange(len(df))\n",
    "    np.random.seed(seed)\n",
    "    np.random.shuffle(idx)\n",
    "    df_train_seed = df.iloc[idx[:n_train]]\n",
    "    df_val_seed = df.iloc[idx[n_train:n_train + n_val]]\n",
    "    df_test_seed = df.iloc[idx[n_train + n_val:]]\n",
    "    df_train_seed = df_train_seed.reset_index(drop=True)\n",
    "    df_val_seed = df_val_seed.reset_index(drop=True)\n",
    "    df_test_seed = df_test_seed.reset_index(drop=True)\n",
    "    X_train = prepare_X_zero (df_train_seed)\n",
    "    w0, w = train_linear_regression (X_train, y_train)\n",
    "    X_val = prepare_X_zero (df_val_seed)\n",
    "    y_pred = w0 + X_val.dot(w)\n",
    "    score = rmse (y_val, y_pred)\n",
    "    print(round(np.std(np.array(score)), 10))"
   ]
  },
  {
   "cell_type": "code",
   "execution_count": 49,
   "id": "f03887e6-9853-4dd8-adac-cfa499d0be2a",
   "metadata": {},
   "outputs": [
    {
     "data": {
      "text/plain": [
       "np.float64(0.0)"
      ]
     },
     "execution_count": 49,
     "metadata": {},
     "output_type": "execute_result"
    }
   ],
   "source": [
    "round(np.std(np.array(score)), 10)"
   ]
  },
  {
   "cell_type": "markdown",
   "id": "6943c995-5cd7-4d8e-aa15-2104e50b46ab",
   "metadata": {},
   "source": [
    "Question 6"
   ]
  },
  {
   "cell_type": "code",
   "execution_count": 55,
   "id": "149ae6a8-0d8a-44de-8bbf-0106830824bc",
   "metadata": {},
   "outputs": [
    {
     "name": "stdout",
     "output_type": "stream",
     "text": [
      "2.497415242910217\n"
     ]
    }
   ],
   "source": [
    "\n",
    "    idx = np.arange(len(df))\n",
    "    np.random.seed(9)\n",
    "    np.random.shuffle(idx)\n",
    "    df_train = df.iloc[idx[:n_train]]\n",
    "    df_val = df.iloc[idx[n_train:n_train + n_val]]\n",
    "    df_test = df.iloc[idx[n_train + n_val:]]\n",
    "    df_train = df_train.reset_index(drop=True)\n",
    "    df_val = df_val.reset_index(drop=True)\n",
    "    df_test = df_test.reset_index(drop=True)\n",
    "    df_full_train = pd.concat([df_train, df_val])\n",
    "    df_full_train = df_full_train.reset_index(drop=True)\n",
    "    X_full_train = prepare_X_zero (df_full_train)\n",
    "    y_full_train = np.concatenate([y_train, y_val])\n",
    "    w0, w = train_linear_regression_reg (X_full_train, y_full_train, r=0.001)\n",
    "    X_test = prepare_X_zero (df_test)\n",
    "    y_pred = w0 + X_test.dot(w)\n",
    "    y_test = df_val['fuel_efficiency_mpg'].values\n",
    "    score = rmse(y_test, y_pred)\n",
    "    print(score)"
   ]
  },
  {
   "cell_type": "code",
   "execution_count": 57,
   "id": "0d2f7ef4-de22-4202-a444-32c6cee2b945",
   "metadata": {},
   "outputs": [
    {
     "data": {
      "text/html": [
       "<div>\n",
       "<style scoped>\n",
       "    .dataframe tbody tr th:only-of-type {\n",
       "        vertical-align: middle;\n",
       "    }\n",
       "\n",
       "    .dataframe tbody tr th {\n",
       "        vertical-align: top;\n",
       "    }\n",
       "\n",
       "    .dataframe thead th {\n",
       "        text-align: right;\n",
       "    }\n",
       "</style>\n",
       "<table border=\"1\" class=\"dataframe\">\n",
       "  <thead>\n",
       "    <tr style=\"text-align: right;\">\n",
       "      <th></th>\n",
       "      <th>engine_displacement</th>\n",
       "      <th>num_cylinders</th>\n",
       "      <th>horsepower</th>\n",
       "      <th>vehicle_weight</th>\n",
       "      <th>acceleration</th>\n",
       "      <th>model_year</th>\n",
       "      <th>origin</th>\n",
       "      <th>fuel_type</th>\n",
       "      <th>drivetrain</th>\n",
       "      <th>num_doors</th>\n",
       "      <th>fuel_efficiency_mpg</th>\n",
       "    </tr>\n",
       "  </thead>\n",
       "  <tbody>\n",
       "    <tr>\n",
       "      <th>0</th>\n",
       "      <td>240</td>\n",
       "      <td>2.0</td>\n",
       "      <td>136.0</td>\n",
       "      <td>4050.512290</td>\n",
       "      <td>11.5</td>\n",
       "      <td>2006</td>\n",
       "      <td>Europe</td>\n",
       "      <td>Diesel</td>\n",
       "      <td>All-wheel drive</td>\n",
       "      <td>-1.0</td>\n",
       "      <td>10.304700</td>\n",
       "    </tr>\n",
       "    <tr>\n",
       "      <th>1</th>\n",
       "      <td>190</td>\n",
       "      <td>2.0</td>\n",
       "      <td>141.0</td>\n",
       "      <td>3195.866942</td>\n",
       "      <td>17.2</td>\n",
       "      <td>2017</td>\n",
       "      <td>Europe</td>\n",
       "      <td>Diesel</td>\n",
       "      <td>All-wheel drive</td>\n",
       "      <td>-1.0</td>\n",
       "      <td>13.479434</td>\n",
       "    </tr>\n",
       "    <tr>\n",
       "      <th>2</th>\n",
       "      <td>200</td>\n",
       "      <td>3.0</td>\n",
       "      <td>184.0</td>\n",
       "      <td>3006.164370</td>\n",
       "      <td>9.9</td>\n",
       "      <td>2017</td>\n",
       "      <td>USA</td>\n",
       "      <td>Diesel</td>\n",
       "      <td>Front-wheel drive</td>\n",
       "      <td>0.0</td>\n",
       "      <td>16.190653</td>\n",
       "    </tr>\n",
       "    <tr>\n",
       "      <th>3</th>\n",
       "      <td>200</td>\n",
       "      <td>4.0</td>\n",
       "      <td>NaN</td>\n",
       "      <td>2947.143980</td>\n",
       "      <td>18.1</td>\n",
       "      <td>2022</td>\n",
       "      <td>Europe</td>\n",
       "      <td>Diesel</td>\n",
       "      <td>All-wheel drive</td>\n",
       "      <td>-1.0</td>\n",
       "      <td>15.446503</td>\n",
       "    </tr>\n",
       "    <tr>\n",
       "      <th>4</th>\n",
       "      <td>250</td>\n",
       "      <td>NaN</td>\n",
       "      <td>132.0</td>\n",
       "      <td>3114.371978</td>\n",
       "      <td>11.7</td>\n",
       "      <td>2001</td>\n",
       "      <td>Asia</td>\n",
       "      <td>Gasoline</td>\n",
       "      <td>All-wheel drive</td>\n",
       "      <td>1.0</td>\n",
       "      <td>14.472172</td>\n",
       "    </tr>\n",
       "    <tr>\n",
       "      <th>...</th>\n",
       "      <td>...</td>\n",
       "      <td>...</td>\n",
       "      <td>...</td>\n",
       "      <td>...</td>\n",
       "      <td>...</td>\n",
       "      <td>...</td>\n",
       "      <td>...</td>\n",
       "      <td>...</td>\n",
       "      <td>...</td>\n",
       "      <td>...</td>\n",
       "      <td>...</td>\n",
       "    </tr>\n",
       "    <tr>\n",
       "      <th>5819</th>\n",
       "      <td>260</td>\n",
       "      <td>5.0</td>\n",
       "      <td>161.0</td>\n",
       "      <td>3022.148840</td>\n",
       "      <td>14.9</td>\n",
       "      <td>2021</td>\n",
       "      <td>USA</td>\n",
       "      <td>Gasoline</td>\n",
       "      <td>All-wheel drive</td>\n",
       "      <td>-1.0</td>\n",
       "      <td>14.769735</td>\n",
       "    </tr>\n",
       "    <tr>\n",
       "      <th>5820</th>\n",
       "      <td>140</td>\n",
       "      <td>4.0</td>\n",
       "      <td>NaN</td>\n",
       "      <td>3927.946098</td>\n",
       "      <td>13.0</td>\n",
       "      <td>2016</td>\n",
       "      <td>Asia</td>\n",
       "      <td>Diesel</td>\n",
       "      <td>Front-wheel drive</td>\n",
       "      <td>1.0</td>\n",
       "      <td>10.363254</td>\n",
       "    </tr>\n",
       "    <tr>\n",
       "      <th>5821</th>\n",
       "      <td>210</td>\n",
       "      <td>5.0</td>\n",
       "      <td>158.0</td>\n",
       "      <td>3766.753097</td>\n",
       "      <td>19.2</td>\n",
       "      <td>2015</td>\n",
       "      <td>USA</td>\n",
       "      <td>Gasoline</td>\n",
       "      <td>All-wheel drive</td>\n",
       "      <td>0.0</td>\n",
       "      <td>10.592435</td>\n",
       "    </tr>\n",
       "    <tr>\n",
       "      <th>5822</th>\n",
       "      <td>140</td>\n",
       "      <td>5.0</td>\n",
       "      <td>166.0</td>\n",
       "      <td>2683.147833</td>\n",
       "      <td>12.7</td>\n",
       "      <td>2008</td>\n",
       "      <td>USA</td>\n",
       "      <td>Diesel</td>\n",
       "      <td>All-wheel drive</td>\n",
       "      <td>0.0</td>\n",
       "      <td>17.119261</td>\n",
       "    </tr>\n",
       "    <tr>\n",
       "      <th>5823</th>\n",
       "      <td>200</td>\n",
       "      <td>4.0</td>\n",
       "      <td>164.0</td>\n",
       "      <td>2379.938488</td>\n",
       "      <td>17.0</td>\n",
       "      <td>2004</td>\n",
       "      <td>Europe</td>\n",
       "      <td>Gasoline</td>\n",
       "      <td>All-wheel drive</td>\n",
       "      <td>1.0</td>\n",
       "      <td>18.114504</td>\n",
       "    </tr>\n",
       "  </tbody>\n",
       "</table>\n",
       "<p>5824 rows × 11 columns</p>\n",
       "</div>"
      ],
      "text/plain": [
       "      engine_displacement  num_cylinders  horsepower  vehicle_weight  \\\n",
       "0                     240            2.0       136.0     4050.512290   \n",
       "1                     190            2.0       141.0     3195.866942   \n",
       "2                     200            3.0       184.0     3006.164370   \n",
       "3                     200            4.0         NaN     2947.143980   \n",
       "4                     250            NaN       132.0     3114.371978   \n",
       "...                   ...            ...         ...             ...   \n",
       "5819                  260            5.0       161.0     3022.148840   \n",
       "5820                  140            4.0         NaN     3927.946098   \n",
       "5821                  210            5.0       158.0     3766.753097   \n",
       "5822                  140            5.0       166.0     2683.147833   \n",
       "5823                  200            4.0       164.0     2379.938488   \n",
       "\n",
       "      acceleration  model_year  origin fuel_type         drivetrain  \\\n",
       "0             11.5        2006  Europe    Diesel    All-wheel drive   \n",
       "1             17.2        2017  Europe    Diesel    All-wheel drive   \n",
       "2              9.9        2017     USA    Diesel  Front-wheel drive   \n",
       "3             18.1        2022  Europe    Diesel    All-wheel drive   \n",
       "4             11.7        2001    Asia  Gasoline    All-wheel drive   \n",
       "...            ...         ...     ...       ...                ...   \n",
       "5819          14.9        2021     USA  Gasoline    All-wheel drive   \n",
       "5820          13.0        2016    Asia    Diesel  Front-wheel drive   \n",
       "5821          19.2        2015     USA  Gasoline    All-wheel drive   \n",
       "5822          12.7        2008     USA    Diesel    All-wheel drive   \n",
       "5823          17.0        2004  Europe  Gasoline    All-wheel drive   \n",
       "\n",
       "      num_doors  fuel_efficiency_mpg  \n",
       "0          -1.0            10.304700  \n",
       "1          -1.0            13.479434  \n",
       "2           0.0            16.190653  \n",
       "3          -1.0            15.446503  \n",
       "4           1.0            14.472172  \n",
       "...         ...                  ...  \n",
       "5819       -1.0            14.769735  \n",
       "5820        1.0            10.363254  \n",
       "5821        0.0            10.592435  \n",
       "5822        0.0            17.119261  \n",
       "5823        1.0            18.114504  \n",
       "\n",
       "[5824 rows x 11 columns]"
      ]
     },
     "execution_count": 57,
     "metadata": {},
     "output_type": "execute_result"
    }
   ],
   "source": [
    "df_train"
   ]
  },
  {
   "cell_type": "code",
   "execution_count": null,
   "id": "6f257423-3b31-4fbc-aa48-4a821fc4b014",
   "metadata": {},
   "outputs": [],
   "source": []
  }
 ],
 "metadata": {
  "kernelspec": {
   "display_name": "Python 3 (ipykernel)",
   "language": "python",
   "name": "python3"
  },
  "language_info": {
   "codemirror_mode": {
    "name": "ipython",
    "version": 3
   },
   "file_extension": ".py",
   "mimetype": "text/x-python",
   "name": "python",
   "nbconvert_exporter": "python",
   "pygments_lexer": "ipython3",
   "version": "3.12.1"
  }
 },
 "nbformat": 4,
 "nbformat_minor": 5
}
