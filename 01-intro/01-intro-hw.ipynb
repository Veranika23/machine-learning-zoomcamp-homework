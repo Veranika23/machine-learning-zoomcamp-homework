{
 "cells": [
  {
   "cell_type": "code",
   "execution_count": 40,
   "id": "c2b23a1b-dd9c-428e-bad2-12c154ef5219",
   "metadata": {},
   "outputs": [
    {
     "name": "stdout",
     "output_type": "stream",
     "text": [
      "Requirement already satisfied: wget in /usr/local/python/3.12.1/lib/python3.12/site-packages (3.2)\n",
      "\n",
      "\u001b[1m[\u001b[0m\u001b[34;49mnotice\u001b[0m\u001b[1;39;49m]\u001b[0m\u001b[39;49m A new release of pip is available: \u001b[0m\u001b[31;49m25.1.1\u001b[0m\u001b[39;49m -> \u001b[0m\u001b[32;49m25.2\u001b[0m\n",
      "\u001b[1m[\u001b[0m\u001b[34;49mnotice\u001b[0m\u001b[1;39;49m]\u001b[0m\u001b[39;49m To update, run: \u001b[0m\u001b[32;49mpython3 -m pip install --upgrade pip\u001b[0m\n"
     ]
    }
   ],
   "source": [
    "!pip install wget\n",
    "import pandas as pd\n",
    "import wget\n",
    "import numpy as np"
   ]
  },
  {
   "cell_type": "markdown",
   "id": "b6aa24e6-881b-4d07-b256-b088d598c908",
   "metadata": {},
   "source": [
    "Q1. Pandas version"
   ]
  },
  {
   "cell_type": "code",
   "execution_count": 3,
   "id": "b8f93c2d-ab73-4348-9ef4-4ea6ce22a4db",
   "metadata": {
    "scrolled": true
   },
   "outputs": [
    {
     "data": {
      "text/plain": [
       "'2.3.1'"
      ]
     },
     "execution_count": 3,
     "metadata": {},
     "output_type": "execute_result"
    }
   ],
   "source": [
    "pd.__version__"
   ]
  },
  {
   "cell_type": "code",
   "execution_count": 10,
   "id": "1f7c27b7-9d8e-42b7-ac27-828911b4c74d",
   "metadata": {},
   "outputs": [],
   "source": [
    "url =  'https://raw.githubusercontent.com/alexeygrigorev/datasets/master/car_fuel_efficiency.csv'"
   ]
  },
  {
   "cell_type": "code",
   "execution_count": 11,
   "id": "6224a094-b31f-4d09-a8b9-4882ab2b6fd5",
   "metadata": {},
   "outputs": [
    {
     "name": "stdout",
     "output_type": "stream",
     "text": [
      "100% [........................................................................] 874188 / 874188"
     ]
    }
   ],
   "source": [
    "downloaded_file = wget.download(url)"
   ]
  },
  {
   "cell_type": "code",
   "execution_count": 12,
   "id": "3ad4caa1-a805-4d40-b631-8ff2bfc01b8e",
   "metadata": {},
   "outputs": [],
   "source": [
    "df = pd.read_csv(downloaded_file)"
   ]
  },
  {
   "cell_type": "code",
   "execution_count": 13,
   "id": "22949a3a-991a-4a20-9b69-b5a7b10c290f",
   "metadata": {},
   "outputs": [
    {
     "data": {
      "text/html": [
       "<div>\n",
       "<style scoped>\n",
       "    .dataframe tbody tr th:only-of-type {\n",
       "        vertical-align: middle;\n",
       "    }\n",
       "\n",
       "    .dataframe tbody tr th {\n",
       "        vertical-align: top;\n",
       "    }\n",
       "\n",
       "    .dataframe thead th {\n",
       "        text-align: right;\n",
       "    }\n",
       "</style>\n",
       "<table border=\"1\" class=\"dataframe\">\n",
       "  <thead>\n",
       "    <tr style=\"text-align: right;\">\n",
       "      <th></th>\n",
       "      <th>engine_displacement</th>\n",
       "      <th>num_cylinders</th>\n",
       "      <th>horsepower</th>\n",
       "      <th>vehicle_weight</th>\n",
       "      <th>acceleration</th>\n",
       "      <th>model_year</th>\n",
       "      <th>origin</th>\n",
       "      <th>fuel_type</th>\n",
       "      <th>drivetrain</th>\n",
       "      <th>num_doors</th>\n",
       "      <th>fuel_efficiency_mpg</th>\n",
       "    </tr>\n",
       "  </thead>\n",
       "  <tbody>\n",
       "    <tr>\n",
       "      <th>0</th>\n",
       "      <td>170</td>\n",
       "      <td>3.0</td>\n",
       "      <td>159.0</td>\n",
       "      <td>3413.433759</td>\n",
       "      <td>17.7</td>\n",
       "      <td>2003</td>\n",
       "      <td>Europe</td>\n",
       "      <td>Gasoline</td>\n",
       "      <td>All-wheel drive</td>\n",
       "      <td>0.0</td>\n",
       "      <td>13.231729</td>\n",
       "    </tr>\n",
       "    <tr>\n",
       "      <th>1</th>\n",
       "      <td>130</td>\n",
       "      <td>5.0</td>\n",
       "      <td>97.0</td>\n",
       "      <td>3149.664934</td>\n",
       "      <td>17.8</td>\n",
       "      <td>2007</td>\n",
       "      <td>USA</td>\n",
       "      <td>Gasoline</td>\n",
       "      <td>Front-wheel drive</td>\n",
       "      <td>0.0</td>\n",
       "      <td>13.688217</td>\n",
       "    </tr>\n",
       "    <tr>\n",
       "      <th>2</th>\n",
       "      <td>170</td>\n",
       "      <td>NaN</td>\n",
       "      <td>78.0</td>\n",
       "      <td>3079.038997</td>\n",
       "      <td>15.1</td>\n",
       "      <td>2018</td>\n",
       "      <td>Europe</td>\n",
       "      <td>Gasoline</td>\n",
       "      <td>Front-wheel drive</td>\n",
       "      <td>0.0</td>\n",
       "      <td>14.246341</td>\n",
       "    </tr>\n",
       "    <tr>\n",
       "      <th>3</th>\n",
       "      <td>220</td>\n",
       "      <td>4.0</td>\n",
       "      <td>NaN</td>\n",
       "      <td>2542.392402</td>\n",
       "      <td>20.2</td>\n",
       "      <td>2009</td>\n",
       "      <td>USA</td>\n",
       "      <td>Diesel</td>\n",
       "      <td>All-wheel drive</td>\n",
       "      <td>2.0</td>\n",
       "      <td>16.912736</td>\n",
       "    </tr>\n",
       "    <tr>\n",
       "      <th>4</th>\n",
       "      <td>210</td>\n",
       "      <td>1.0</td>\n",
       "      <td>140.0</td>\n",
       "      <td>3460.870990</td>\n",
       "      <td>14.4</td>\n",
       "      <td>2009</td>\n",
       "      <td>Europe</td>\n",
       "      <td>Gasoline</td>\n",
       "      <td>All-wheel drive</td>\n",
       "      <td>2.0</td>\n",
       "      <td>12.488369</td>\n",
       "    </tr>\n",
       "  </tbody>\n",
       "</table>\n",
       "</div>"
      ],
      "text/plain": [
       "   engine_displacement  num_cylinders  horsepower  vehicle_weight  \\\n",
       "0                  170            3.0       159.0     3413.433759   \n",
       "1                  130            5.0        97.0     3149.664934   \n",
       "2                  170            NaN        78.0     3079.038997   \n",
       "3                  220            4.0         NaN     2542.392402   \n",
       "4                  210            1.0       140.0     3460.870990   \n",
       "\n",
       "   acceleration  model_year  origin fuel_type         drivetrain  num_doors  \\\n",
       "0          17.7        2003  Europe  Gasoline    All-wheel drive        0.0   \n",
       "1          17.8        2007     USA  Gasoline  Front-wheel drive        0.0   \n",
       "2          15.1        2018  Europe  Gasoline  Front-wheel drive        0.0   \n",
       "3          20.2        2009     USA    Diesel    All-wheel drive        2.0   \n",
       "4          14.4        2009  Europe  Gasoline    All-wheel drive        2.0   \n",
       "\n",
       "   fuel_efficiency_mpg  \n",
       "0            13.231729  \n",
       "1            13.688217  \n",
       "2            14.246341  \n",
       "3            16.912736  \n",
       "4            12.488369  "
      ]
     },
     "execution_count": 13,
     "metadata": {},
     "output_type": "execute_result"
    }
   ],
   "source": [
    "df.head()"
   ]
  },
  {
   "cell_type": "markdown",
   "id": "709fde2b-74ed-4a58-8dff-6ddeb5910dd1",
   "metadata": {},
   "source": [
    "Q2. Records count"
   ]
  },
  {
   "cell_type": "code",
   "execution_count": 17,
   "id": "c8ad92f5-3d31-4ce9-a4bf-deff483a0e5b",
   "metadata": {},
   "outputs": [
    {
     "data": {
      "text/plain": [
       "9704"
      ]
     },
     "execution_count": 17,
     "metadata": {},
     "output_type": "execute_result"
    }
   ],
   "source": [
    "df.shape[0]"
   ]
  },
  {
   "cell_type": "markdown",
   "id": "03fc2fe4-d818-486c-a448-8dbc737dfe22",
   "metadata": {},
   "source": [
    "Q3. Fuel types"
   ]
  },
  {
   "cell_type": "code",
   "execution_count": 18,
   "id": "7b904aad-eb21-4733-8c68-76b0f43b74ba",
   "metadata": {},
   "outputs": [
    {
     "data": {
      "text/plain": [
       "2"
      ]
     },
     "execution_count": 18,
     "metadata": {},
     "output_type": "execute_result"
    }
   ],
   "source": [
    "df['fuel_type'].nunique()"
   ]
  },
  {
   "cell_type": "markdown",
   "id": "45b0be14-e482-40b3-abc4-75c89233fb0b",
   "metadata": {},
   "source": [
    "Q4. Missing values"
   ]
  },
  {
   "cell_type": "code",
   "execution_count": 19,
   "id": "9b25dfc7-a227-43ec-a563-2c6ba7433e2e",
   "metadata": {},
   "outputs": [
    {
     "data": {
      "text/plain": [
       "engine_displacement      0\n",
       "num_cylinders          482\n",
       "horsepower             708\n",
       "vehicle_weight           0\n",
       "acceleration           930\n",
       "model_year               0\n",
       "origin                   0\n",
       "fuel_type                0\n",
       "drivetrain               0\n",
       "num_doors              502\n",
       "fuel_efficiency_mpg      0\n",
       "dtype: int64"
      ]
     },
     "execution_count": 19,
     "metadata": {},
     "output_type": "execute_result"
    }
   ],
   "source": [
    "df.isnull().sum()"
   ]
  },
  {
   "cell_type": "markdown",
   "id": "f50d077e-f9e3-48c7-bcfb-03e5980b3ecb",
   "metadata": {},
   "source": [
    "Q5. Max fuel efficiency"
   ]
  },
  {
   "cell_type": "code",
   "execution_count": 22,
   "id": "53dac384-0fe6-40a1-a019-7acca343afdb",
   "metadata": {},
   "outputs": [],
   "source": [
    "df_asia = df[df['origin'] == 'Asia']"
   ]
  },
  {
   "cell_type": "code",
   "execution_count": 24,
   "id": "a3a6b6d6-239e-4b3d-a372-c90fc67b30f7",
   "metadata": {},
   "outputs": [
    {
     "data": {
      "text/plain": [
       "23.759122836520497"
      ]
     },
     "execution_count": 24,
     "metadata": {},
     "output_type": "execute_result"
    }
   ],
   "source": [
    "max(df_asia['fuel_efficiency_mpg'])"
   ]
  },
  {
   "cell_type": "markdown",
   "id": "6bec4691-5e49-483d-805a-c51f79df5a22",
   "metadata": {},
   "source": [
    "Q6. Median value of horsepower"
   ]
  },
  {
   "cell_type": "code",
   "execution_count": 30,
   "id": "64bf4251-5300-44c3-97a2-99b1e06507c2",
   "metadata": {},
   "outputs": [
    {
     "data": {
      "text/plain": [
       "np.float64(149.0)"
      ]
     },
     "execution_count": 30,
     "metadata": {},
     "output_type": "execute_result"
    }
   ],
   "source": [
    "df['horsepower'].median()"
   ]
  },
  {
   "cell_type": "code",
   "execution_count": 31,
   "id": "a5e35258-76a8-4a84-99cf-a06c2991da84",
   "metadata": {},
   "outputs": [
    {
     "data": {
      "text/plain": [
       "0    152.0\n",
       "Name: horsepower, dtype: float64"
      ]
     },
     "execution_count": 31,
     "metadata": {},
     "output_type": "execute_result"
    }
   ],
   "source": [
    "df['horsepower'].mode()"
   ]
  },
  {
   "cell_type": "code",
   "execution_count": 32,
   "id": "bae9e307-61bf-4b14-96f9-817fff6ed9a9",
   "metadata": {},
   "outputs": [],
   "source": [
    "df_filled = df['horsepower'].fillna(df['horsepower'].mode())"
   ]
  },
  {
   "cell_type": "code",
   "execution_count": 33,
   "id": "b94e9722-58c5-4719-82ae-899b0f54592e",
   "metadata": {},
   "outputs": [
    {
     "data": {
      "text/plain": [
       "np.float64(149.0)"
      ]
     },
     "execution_count": 33,
     "metadata": {},
     "output_type": "execute_result"
    }
   ],
   "source": [
    "df['horsepower'].median()"
   ]
  },
  {
   "cell_type": "markdown",
   "id": "a6014bad-7cbd-4378-acef-2f5f1683128e",
   "metadata": {},
   "source": [
    "Q7. Sum of weights"
   ]
  },
  {
   "cell_type": "code",
   "execution_count": 69,
   "id": "4871ab73-0456-4725-b995-9c7b7306a5dc",
   "metadata": {},
   "outputs": [
    {
     "data": {
      "text/html": [
       "<div>\n",
       "<style scoped>\n",
       "    .dataframe tbody tr th:only-of-type {\n",
       "        vertical-align: middle;\n",
       "    }\n",
       "\n",
       "    .dataframe tbody tr th {\n",
       "        vertical-align: top;\n",
       "    }\n",
       "\n",
       "    .dataframe thead th {\n",
       "        text-align: right;\n",
       "    }\n",
       "</style>\n",
       "<table border=\"1\" class=\"dataframe\">\n",
       "  <thead>\n",
       "    <tr style=\"text-align: right;\">\n",
       "      <th></th>\n",
       "      <th>vehicle_weight</th>\n",
       "      <th>model_year</th>\n",
       "    </tr>\n",
       "  </thead>\n",
       "  <tbody>\n",
       "    <tr>\n",
       "      <th>8</th>\n",
       "      <td>2714.219310</td>\n",
       "      <td>2016</td>\n",
       "    </tr>\n",
       "    <tr>\n",
       "      <th>12</th>\n",
       "      <td>2783.868974</td>\n",
       "      <td>2010</td>\n",
       "    </tr>\n",
       "    <tr>\n",
       "      <th>14</th>\n",
       "      <td>3582.687368</td>\n",
       "      <td>2007</td>\n",
       "    </tr>\n",
       "    <tr>\n",
       "      <th>20</th>\n",
       "      <td>2231.808142</td>\n",
       "      <td>2011</td>\n",
       "    </tr>\n",
       "    <tr>\n",
       "      <th>21</th>\n",
       "      <td>2659.431451</td>\n",
       "      <td>2016</td>\n",
       "    </tr>\n",
       "    <tr>\n",
       "      <th>...</th>\n",
       "      <td>...</td>\n",
       "      <td>...</td>\n",
       "    </tr>\n",
       "    <tr>\n",
       "      <th>9688</th>\n",
       "      <td>3948.404625</td>\n",
       "      <td>2018</td>\n",
       "    </tr>\n",
       "    <tr>\n",
       "      <th>9692</th>\n",
       "      <td>3680.341381</td>\n",
       "      <td>2016</td>\n",
       "    </tr>\n",
       "    <tr>\n",
       "      <th>9693</th>\n",
       "      <td>2545.070139</td>\n",
       "      <td>2012</td>\n",
       "    </tr>\n",
       "    <tr>\n",
       "      <th>9698</th>\n",
       "      <td>3107.427820</td>\n",
       "      <td>2005</td>\n",
       "    </tr>\n",
       "    <tr>\n",
       "      <th>9703</th>\n",
       "      <td>2908.043477</td>\n",
       "      <td>2005</td>\n",
       "    </tr>\n",
       "  </tbody>\n",
       "</table>\n",
       "<p>3247 rows × 2 columns</p>\n",
       "</div>"
      ],
      "text/plain": [
       "      vehicle_weight  model_year\n",
       "8        2714.219310        2016\n",
       "12       2783.868974        2010\n",
       "14       3582.687368        2007\n",
       "20       2231.808142        2011\n",
       "21       2659.431451        2016\n",
       "...              ...         ...\n",
       "9688     3948.404625        2018\n",
       "9692     3680.341381        2016\n",
       "9693     2545.070139        2012\n",
       "9698     3107.427820        2005\n",
       "9703     2908.043477        2005\n",
       "\n",
       "[3247 rows x 2 columns]"
      ]
     },
     "execution_count": 69,
     "metadata": {},
     "output_type": "execute_result"
    }
   ],
   "source": [
    "df_asia[['vehicle_weight', 'model_year']]"
   ]
  },
  {
   "cell_type": "code",
   "execution_count": 35,
   "id": "0add88d8-aab8-4be1-b20b-cdbf1d5a8d37",
   "metadata": {},
   "outputs": [
    {
     "data": {
      "text/html": [
       "<div>\n",
       "<style scoped>\n",
       "    .dataframe tbody tr th:only-of-type {\n",
       "        vertical-align: middle;\n",
       "    }\n",
       "\n",
       "    .dataframe tbody tr th {\n",
       "        vertical-align: top;\n",
       "    }\n",
       "\n",
       "    .dataframe thead th {\n",
       "        text-align: right;\n",
       "    }\n",
       "</style>\n",
       "<table border=\"1\" class=\"dataframe\">\n",
       "  <thead>\n",
       "    <tr style=\"text-align: right;\">\n",
       "      <th></th>\n",
       "      <th>vehicle_weight</th>\n",
       "      <th>model_year</th>\n",
       "    </tr>\n",
       "  </thead>\n",
       "  <tbody>\n",
       "    <tr>\n",
       "      <th>8</th>\n",
       "      <td>2714.219310</td>\n",
       "      <td>2016</td>\n",
       "    </tr>\n",
       "    <tr>\n",
       "      <th>12</th>\n",
       "      <td>2783.868974</td>\n",
       "      <td>2010</td>\n",
       "    </tr>\n",
       "    <tr>\n",
       "      <th>14</th>\n",
       "      <td>3582.687368</td>\n",
       "      <td>2007</td>\n",
       "    </tr>\n",
       "    <tr>\n",
       "      <th>20</th>\n",
       "      <td>2231.808142</td>\n",
       "      <td>2011</td>\n",
       "    </tr>\n",
       "    <tr>\n",
       "      <th>21</th>\n",
       "      <td>2659.431451</td>\n",
       "      <td>2016</td>\n",
       "    </tr>\n",
       "    <tr>\n",
       "      <th>34</th>\n",
       "      <td>2844.227534</td>\n",
       "      <td>2014</td>\n",
       "    </tr>\n",
       "    <tr>\n",
       "      <th>38</th>\n",
       "      <td>3761.994038</td>\n",
       "      <td>2019</td>\n",
       "    </tr>\n",
       "  </tbody>\n",
       "</table>\n",
       "</div>"
      ],
      "text/plain": [
       "    vehicle_weight  model_year\n",
       "8      2714.219310        2016\n",
       "12     2783.868974        2010\n",
       "14     3582.687368        2007\n",
       "20     2231.808142        2011\n",
       "21     2659.431451        2016\n",
       "34     2844.227534        2014\n",
       "38     3761.994038        2019"
      ]
     },
     "execution_count": 35,
     "metadata": {},
     "output_type": "execute_result"
    }
   ],
   "source": [
    "df_asia[['vehicle_weight', 'model_year']].head(7)"
   ]
  },
  {
   "cell_type": "code",
   "execution_count": 94,
   "id": "9c544008-d19c-45f1-a10a-29ccb3408340",
   "metadata": {},
   "outputs": [],
   "source": [
    "X = df_asia[['vehicle_weight', 'model_year']].head(7).values"
   ]
  },
  {
   "cell_type": "code",
   "execution_count": 95,
   "id": "1f0516d4-85bb-485d-8ada-9a44e0611680",
   "metadata": {},
   "outputs": [
    {
     "data": {
      "text/plain": [
       "array([[2714.21930965, 2016.        ],\n",
       "       [2783.86897424, 2010.        ],\n",
       "       [3582.68736772, 2007.        ],\n",
       "       [2231.8081416 , 2011.        ],\n",
       "       [2659.43145076, 2016.        ],\n",
       "       [2844.22753389, 2014.        ],\n",
       "       [3761.99403819, 2019.        ]])"
      ]
     },
     "execution_count": 95,
     "metadata": {},
     "output_type": "execute_result"
    }
   ],
   "source": [
    "X"
   ]
  },
  {
   "cell_type": "code",
   "execution_count": 96,
   "id": "02f6700b-5321-4990-aa5d-c06b7315c1fd",
   "metadata": {},
   "outputs": [],
   "source": [
    "XT = X.T"
   ]
  },
  {
   "cell_type": "code",
   "execution_count": 97,
   "id": "1d7045bd-4045-4eaf-b1b0-a49a0d36a424",
   "metadata": {},
   "outputs": [
    {
     "data": {
      "text/plain": [
       "array([[2714.21930965, 2783.86897424, 3582.68736772, 2231.8081416 ,\n",
       "        2659.43145076, 2844.22753389, 3761.99403819],\n",
       "       [2016.        , 2010.        , 2007.        , 2011.        ,\n",
       "        2016.        , 2014.        , 2019.        ]])"
      ]
     },
     "execution_count": 97,
     "metadata": {},
     "output_type": "execute_result"
    }
   ],
   "source": [
    "XT"
   ]
  },
  {
   "cell_type": "code",
   "execution_count": 98,
   "id": "5f3f48a9-a86e-4866-8a60-7f1d2f8ebf14",
   "metadata": {},
   "outputs": [],
   "source": [
    "XTX = X.dot(XT)"
   ]
  },
  {
   "cell_type": "code",
   "execution_count": 99,
   "id": "f05dedf8-d03f-4d30-a9cd-9600dc4393a5",
   "metadata": {},
   "outputs": [
    {
     "data": {
      "text/plain": [
       "array([[11431242.46085133, 11608190.92541486, 13770311.23387465,\n",
       "        10111792.75336224, 11282536.19632532, 11780081.29349753,\n",
       "        14281180.86123177],\n",
       "       [11608190.92541486, 11790026.46575708, 14007802.20739725,\n",
       "        10255171.44187306, 11455668.70489329, 11966096.78727446,\n",
       "        14531088.48421337],\n",
       "       [13770311.23387465, 14007802.20739725, 16863697.77478558,\n",
       "        12031947.83608462, 13574023.463935  , 14232076.05656009,\n",
       "        17530181.51805091],\n",
       "       [10111792.75336224, 10255171.44187306, 12031947.83608462,\n",
       "         9025088.58092514,  9989516.7638366 , 10397924.16669749,\n",
       "        12456257.9230991 ],\n",
       "       [11282536.19632532, 11455668.70489329, 13574023.463935  ,\n",
       "         9989516.7638366 , 11136831.64128077, 11624252.15672766,\n",
       "        14075069.26273247],\n",
       "       [11780081.29349753, 11966096.78727446, 14232076.05656009,\n",
       "        10397924.16669749, 11624252.15672766, 12145826.2645139 ,\n",
       "        14766233.02574041],\n",
       "       [14281180.86123177, 14531088.48421337, 17530181.51805091,\n",
       "        12456257.9230991 , 14075069.26273247, 14766233.02574041,\n",
       "        18228960.14339381]])"
      ]
     },
     "execution_count": 99,
     "metadata": {},
     "output_type": "execute_result"
    }
   ],
   "source": [
    "XTX"
   ]
  },
  {
   "cell_type": "code",
   "execution_count": 100,
   "id": "6e6b8fe7-ea36-45fe-8bb6-e8502b09a26a",
   "metadata": {},
   "outputs": [],
   "source": [
    "XTXI = np.linalg.inv(XTX)"
   ]
  },
  {
   "cell_type": "code",
   "execution_count": 101,
   "id": "31998b1c-ecf8-491f-8283-9c022b8281b8",
   "metadata": {},
   "outputs": [
    {
     "data": {
      "text/plain": [
       "array([[ 2.40662244e+08, -8.18480683e+07, -1.03428022e+08,\n",
       "        -1.71670448e+08,  2.73403363e+08, -2.15404296e+08,\n",
       "         5.68558288e+07],\n",
       "       [ 3.07315072e+08,  8.15201613e+08, -3.50733988e+08,\n",
       "        -6.67483762e+08,  2.18148252e+07, -6.76280250e+07,\n",
       "        -5.92596904e+07],\n",
       "       [-4.86723629e+08, -1.99324915e+08,  1.63505427e+08,\n",
       "         5.91302899e+08, -1.29792968e+08, -8.84952053e+07,\n",
       "         1.50819395e+08],\n",
       "       [-3.32348660e+08, -1.88087428e+08,  3.67957445e+08,\n",
       "         5.29729004e+08, -1.66174330e+08, -1.66174330e+08,\n",
       "        -4.26064585e+07],\n",
       "       [ 1.78956971e+08, -1.78956971e+08, -1.78956971e+08,\n",
       "        -7.60349662e+07, -1.78956971e+08,  3.57913941e+08,\n",
       "         7.47586876e+07],\n",
       "       [-1.78956971e+08, -2.04522252e+08,  6.39132038e+07,\n",
       "         9.37744128e+06,  1.78956971e+08,  1.78956971e+08,\n",
       "        -4.77768432e+07],\n",
       "       [ 2.68435456e+08,  3.83479223e+07,  3.83479223e+07,\n",
       "        -2.12927011e+08,  0.00000000e+00,  0.00000000e+00,\n",
       "        -1.32250255e+08]])"
      ]
     },
     "execution_count": 101,
     "metadata": {},
     "output_type": "execute_result"
    }
   ],
   "source": [
    "XTXI"
   ]
  },
  {
   "cell_type": "code",
   "execution_count": 102,
   "id": "50cb8d3b-f2f4-4af4-9941-17ef5f133196",
   "metadata": {},
   "outputs": [],
   "source": [
    "y = ([1100, 1300, 800, 900, 1000, 1100, 1200])"
   ]
  },
  {
   "cell_type": "code",
   "execution_count": 103,
   "id": "55555f1b-c242-41aa-a5cd-dfaaf119b6b2",
   "metadata": {},
   "outputs": [
    {
     "data": {
      "text/plain": [
       "[1100, 1300, 800, 900, 1000, 1100, 1200]"
      ]
     },
     "execution_count": 103,
     "metadata": {},
     "output_type": "execute_result"
    }
   ],
   "source": [
    "y"
   ]
  },
  {
   "cell_type": "code",
   "execution_count": 104,
   "id": "c3075f2a-34d9-4e27-b425-b7481f831e0d",
   "metadata": {},
   "outputs": [
    {
     "data": {
      "text/plain": [
       "array([[2714.21930965, 2783.86897424, 3582.68736772, 2231.8081416 ,\n",
       "        2659.43145076, 2844.22753389, 3761.99403819],\n",
       "       [2016.        , 2010.        , 2007.        , 2011.        ,\n",
       "        2016.        , 2014.        , 2019.        ]])"
      ]
     },
     "execution_count": 104,
     "metadata": {},
     "output_type": "execute_result"
    }
   ],
   "source": [
    "XT"
   ]
  },
  {
   "cell_type": "code",
   "execution_count": 105,
   "id": "a43a6591-ec25-461b-a9a9-5a28af8e8b96",
   "metadata": {},
   "outputs": [],
   "source": [
    "XTXIXT = XT.dot(XTXI)"
   ]
  },
  {
   "cell_type": "code",
   "execution_count": 106,
   "id": "6d6094c8-3ec4-499b-a55f-2a5d7ee0aa8d",
   "metadata": {},
   "outputs": [
    {
     "data": {
      "text/plain": [
       "array([[ 4.88281250e-04,  5.93006535e-04, -3.79084525e-05,\n",
       "        -1.33886809e-03,  1.34505555e-04, -1.70670227e-04,\n",
       "         4.06228092e-04],\n",
       "       [-1.22070312e-04, -1.22979283e-03, -6.92605972e-05,\n",
       "         1.87301636e-03,  8.17179680e-05,  3.25858593e-04,\n",
       "        -3.77714634e-04]])"
      ]
     },
     "execution_count": 106,
     "metadata": {},
     "output_type": "execute_result"
    }
   ],
   "source": [
    "XTXIXT"
   ]
  },
  {
   "cell_type": "code",
   "execution_count": 107,
   "id": "82a38ac1-88d3-4676-90fb-0b5edfac3bf5",
   "metadata": {},
   "outputs": [],
   "source": [
    "w = XTXIXT.dot(y)"
   ]
  },
  {
   "cell_type": "code",
   "execution_count": 108,
   "id": "546eabd8-8342-4bae-8ab8-fee347ec617d",
   "metadata": {},
   "outputs": [
    {
     "data": {
      "text/plain": [
       "array([ 0.50695184, -0.11579692])"
      ]
     },
     "execution_count": 108,
     "metadata": {},
     "output_type": "execute_result"
    }
   ],
   "source": [
    "w"
   ]
  },
  {
   "cell_type": "code",
   "execution_count": 109,
   "id": "df086a0b-75c3-47f7-90ca-25835502a1c4",
   "metadata": {},
   "outputs": [
    {
     "data": {
      "text/plain": [
       "np.float64(0.39115491705218286)"
      ]
     },
     "execution_count": 109,
     "metadata": {},
     "output_type": "execute_result"
    }
   ],
   "source": [
    "w.sum()"
   ]
  }
 ],
 "metadata": {
  "kernelspec": {
   "display_name": "Python 3 (ipykernel)",
   "language": "python",
   "name": "python3"
  },
  "language_info": {
   "codemirror_mode": {
    "name": "ipython",
    "version": 3
   },
   "file_extension": ".py",
   "mimetype": "text/x-python",
   "name": "python",
   "nbconvert_exporter": "python",
   "pygments_lexer": "ipython3",
   "version": "3.12.1"
  }
 },
 "nbformat": 4,
 "nbformat_minor": 5
}
